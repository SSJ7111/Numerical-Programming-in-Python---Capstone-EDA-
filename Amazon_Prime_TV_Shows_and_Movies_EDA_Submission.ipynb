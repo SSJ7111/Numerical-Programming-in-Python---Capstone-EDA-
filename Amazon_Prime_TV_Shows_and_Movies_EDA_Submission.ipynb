{
  "nbformat": 4,
  "nbformat_minor": 0,
  "metadata": {
    "colab": {
      "private_outputs": true,
      "provenance": [],
      "collapsed_sections": [
        "vncDsAP0Gaoa",
        "FJNUwmbgGyua",
        "w6K7xa23Elo4",
        "yQaldy8SH6Dl",
        "PH-0ReGfmX4f",
        "mDgbUHAGgjLW",
        "H0kj-8xxnORC",
        "MSa1f5Uengrz",
        "GF8Ens_Soomf",
        "K5QZ13OEpz2H",
        "lQ7QKXXCp7Bj",
        "448CDAPjqfQr",
        "KSlN3yHqYklG",
        "t6dVpIINYklI",
        "ijmpgYnKYklI",
        "-JiQyfWJYklI",
        "EM7whBJCYoAo",
        "fge-S5ZAYoAp",
        "85gYPyotYoAp",
        "RoGjAbkUYoAp",
        "4Of9eVA-YrdM",
        "iky9q4vBYrdO",
        "F6T5p64dYrdO",
        "y-Ehk30pYrdP",
        "bbFf2-_FphqN",
        "_ouA3fa0phqN",
        "Seke61FWphqN",
        "t27r6nlMphqO",
        "r2jJGEOYphqO",
        "BZR9WyysphqO",
        "jj7wYXLtphqO",
        "eZrbJ2SmphqO",
        "rFu4xreNphqO",
        "YJ55k-q6phqO",
        "gCFgpxoyphqP",
        "OVtJsKN_phqQ",
        "lssrdh5qphqQ",
        "U2RJ9gkRphqQ",
        "1M8mcRywphqQ",
        "tgIPom80phqQ",
        "JMzcOPDDphqR",
        "x-EpHcCOp1ci",
        "X_VqEhTip1ck",
        "8zGJKyg5p1ck",
        "PVzmfK_Ep1ck",
        "n3dbpmDWp1ck",
        "ylSl6qgtp1ck",
        "ZWILFDl5p1ck",
        "M7G43BXep1ck",
        "Ag9LCva-p1cl",
        "E6MkPsBcp1cl",
        "2cELzS2fp1cl",
        "3MPXvC8up1cl",
        "NC_X3p0fY2L0",
        "UV0SzAkaZNRQ",
        "YPEH6qLeZNRQ",
        "q29F0dvdveiT",
        "EXh0U9oCveiU",
        "22aHeOlLveiV",
        "JcMwzZxoAimU",
        "8G2x9gOozGDZ",
        "gCX9965dhzqZ",
        "gIfDvo9L0UH2"
      ],
      "include_colab_link": true
    },
    "kernelspec": {
      "name": "python3",
      "display_name": "Python 3"
    },
    "language_info": {
      "name": "python"
    }
  },
  "cells": [
    {
      "cell_type": "markdown",
      "metadata": {
        "id": "view-in-github",
        "colab_type": "text"
      },
      "source": [
        "<a href=\"https://colab.research.google.com/github/SSJ7111/Numerical-Programming-in-Python---Capstone-EDA-/blob/main/Amazon_Prime_TV_Shows_and_Movies_EDA_Submission.ipynb\" target=\"_parent\"><img src=\"https://colab.research.google.com/assets/colab-badge.svg\" alt=\"Open In Colab\"/></a>"
      ]
    },
    {
      "cell_type": "markdown",
      "source": [
        "# **Project Name**    **- Amazon Prime TV Shows and Movies Analysis**\n",
        "\n"
      ],
      "metadata": {
        "id": "vncDsAP0Gaoa"
      }
    },
    {
      "cell_type": "markdown",
      "source": [
        "##### **Project Type**    - EDA\n",
        "##### **Contribution**    - Individual"
      ],
      "metadata": {
        "id": "beRrZCGUAJYm"
      }
    },
    {
      "cell_type": "markdown",
      "source": [
        "# **Project Summary -**"
      ],
      "metadata": {
        "id": "FJNUwmbgGyua"
      }
    },
    {
      "cell_type": "markdown",
      "source": [
        "This project aims to analyze the content available on **Amazon Prime Video** to uncover key insights about show diversity, viewer preferences, and content performance. With the rapid expansion of digital streaming platforms, understanding what content resonates with users is crucial for driving engagement, improving content strategy, and maintaining a competitive edge.\n",
        "\n",
        "The dataset focuses on Amazon Prime titles available in the **United States** and includes two CSV files:\n",
        "  * **titles.csv** - Contains detailed information on over **9,000 unique shows and movies**, including genre, release year, ratings (IMDB, TMDB), runtime, and age certification.\n",
        "  * **credits.csv** - Includes **124,000+ entries** of cast and crew data, covering actors and directors associated with each title.\n",
        "\n",
        "Through this analysis, we aim to:\n",
        "  * Identify dominant **genres and content categories**\n",
        "  * Understand **regional and age-based availability**\n",
        "  * Track **content trends over time**\n",
        "  * Discover the **most popular and highly rated** titles\n",
        "\n",
        "Key Python libraries like **Pandas, NumPy, Matplotlib,** and **Seaborn** will be used for data cleaning, exploration, and visualization. The outcome of this project will provide **data-driven insights** for stakeholders in content strategy, marketing, and business development."
      ],
      "metadata": {
        "id": "F6v_1wHtG2nS"
      }
    },
    {
      "cell_type": "markdown",
      "source": [
        "# **GitHub Link -**"
      ],
      "metadata": {
        "id": "w6K7xa23Elo4"
      }
    },
    {
      "cell_type": "markdown",
      "source": [
        "Provide your GitHub Link here."
      ],
      "metadata": {
        "id": "h1o69JH3Eqqn"
      }
    },
    {
      "cell_type": "markdown",
      "source": [
        "# **Problem Statement**\n"
      ],
      "metadata": {
        "id": "yQaldy8SH6Dl"
      }
    },
    {
      "cell_type": "markdown",
      "source": [
        "# Business Problem Overview\n",
        "\n",
        "In the rapidly growing and highly competitive streaming industry, platforms like **Amazon Prime Video** must continuosly innovate and expand their content offerings to retain users and attract new subscribers. With thousands of titles across various genres, understanding **what content performs well**, **what users prefer**, and **how content trends evolve** is essential.\n",
        "\n",
        "However, without data-driven insights, making strategic decisions about content investment, regional availability, and user engagement becomes challenging. There is a need to analyze the vast collection of shows and movies on Amazon Prime to uncover patterns, preferences, and performance metrics.\n"
      ],
      "metadata": {
        "id": "DpeJGUA3kjGy"
      }
    },
    {
      "cell_type": "markdown",
      "source": [
        "#### **Define Your Business Objective?**"
      ],
      "metadata": {
        "id": "PH-0ReGfmX4f"
      }
    },
    {
      "cell_type": "markdown",
      "source": [
        "The primary objective is to analyze the Amazon Prime Video dataset to:\n",
        "1. **Identify content trends** based on genres, ratings, and popularity.\n",
        "2. **Understand audience preferences** by evaluating ratings, votes, and types of content (movie/show).\n",
        "3. **Measure content performance over time** to track how the library has evolved and what types of content are gaining traction.\n",
        "4. **Explore regional and certification-based content availability** to identify gaps or strengths in specific markets or age groups.\n",
        "5. **Provide actionable insights** for:\n",
        "  * Content creators (to understand what's working)\n",
        "  * Business teams (to plan content acquisition/investment)\n",
        "  * Marketing teams (to promote high-potential content)\n",
        "\n",
        "By leveraging this analysis, Amazon Prime or similar streaming platforms can make informed decisions to improve **user engagement, subscriber retention,** and **overall content strategy.**"
      ],
      "metadata": {
        "id": "PhDvGCAqmjP1"
      }
    },
    {
      "cell_type": "markdown",
      "source": [
        "# **General Guidelines** : -  "
      ],
      "metadata": {
        "id": "mDgbUHAGgjLW"
      }
    },
    {
      "cell_type": "markdown",
      "source": [
        "1.   Well-structured, formatted, and commented code is required.\n",
        "2.   Exception Handling, Production Grade Code & Deployment Ready Code will be a plus. Those students will be awarded some additional credits.\n",
        "     \n",
        "     The additional credits will have advantages over other students during Star Student selection.\n",
        "       \n",
        "             [ Note: - Deployment Ready Code is defined as, the whole .ipynb notebook should be executable in one go\n",
        "                       without a single error logged. ]\n",
        "\n",
        "3.   Each and every logic should have proper comments.\n",
        "4. You may add as many number of charts you want. Make Sure for each and every chart the following format should be answered.\n",
        "        \n",
        "\n",
        "```\n",
        "# Chart visualization code\n",
        "```\n",
        "            \n",
        "\n",
        "*   Why did you pick the specific chart?\n",
        "*   What is/are the insight(s) found from the chart?\n",
        "* Will the gained insights help creating a positive business impact?\n",
        "Are there any insights that lead to negative growth? Justify with specific reason.\n",
        "\n",
        "5. You have to create at least 20 logical & meaningful charts having important insights.\n",
        "\n",
        "\n",
        "[ Hints : - Do the Vizualization in  a structured way while following \"UBM\" Rule.\n",
        "\n",
        "U - Univariate Analysis,\n",
        "\n",
        "B - Bivariate Analysis (Numerical - Categorical, Numerical - Numerical, Categorical - Categorical)\n",
        "\n",
        "M - Multivariate Analysis\n",
        " ]\n",
        "\n",
        "\n",
        "\n"
      ],
      "metadata": {
        "id": "ZrxVaUj-hHfC"
      }
    },
    {
      "cell_type": "markdown",
      "source": [
        "# ***Let's Begin !***"
      ],
      "metadata": {
        "id": "O_i_v8NEhb9l"
      }
    },
    {
      "cell_type": "markdown",
      "source": [
        "## ***1. Know Your Data***"
      ],
      "metadata": {
        "id": "HhfV-JJviCcP"
      }
    },
    {
      "cell_type": "markdown",
      "source": [
        "### Import Libraries"
      ],
      "metadata": {
        "id": "Y3lxredqlCYt"
      }
    },
    {
      "cell_type": "code",
      "source": [
        "# Import Libraries\n",
        "import pandas as pd\n",
        "import numpy as np\n",
        "import matplotlib.pyplot as plt\n",
        "import seaborn as sns\n",
        "import os"
      ],
      "metadata": {
        "id": "M8Vqi-pPk-HR"
      },
      "execution_count": null,
      "outputs": []
    },
    {
      "cell_type": "markdown",
      "source": [
        "### Dataset Loading"
      ],
      "metadata": {
        "id": "3RnN4peoiCZX"
      }
    },
    {
      "cell_type": "code",
      "source": [
        "from google.colab import drive\n",
        "\n",
        "drive.mount('/content/drive', force_remount=True)\n",
        "\n",
        "# File paths\n",
        "credits_file_path = '/content/drive/My Drive/Amazon Prime TV Shows and Movies/credits.csv'\n",
        "titles_file_path = '/content/drive/My Drive/Amazon Prime TV Shows and Movies/titles.csv'\n",
        "\n",
        "# Check if files exist\n",
        "print(\"Credits file exists:\", os.path.exists(credits_file_path))\n",
        "print(\"Titles file exists:\", os.path.exists(titles_file_path))\n",
        "\n",
        "# Load CSVs\n",
        "df_credits = pd.read_csv(credits_file_path)\n",
        "df_titles = pd.read_csv(titles_file_path)\n"
      ],
      "metadata": {
        "id": "4CkvbW_SlZ_R"
      },
      "execution_count": null,
      "outputs": []
    },
    {
      "cell_type": "markdown",
      "source": [
        "### Dataset First View"
      ],
      "metadata": {
        "id": "x71ZqKXriCWQ"
      }
    },
    {
      "cell_type": "code",
      "source": [
        "# Credits Dataset First Look\n",
        "df_credits.head()"
      ],
      "metadata": {
        "id": "LWNFOSvLl09H",
        "collapsed": true
      },
      "execution_count": null,
      "outputs": []
    },
    {
      "cell_type": "code",
      "source": [
        "# Titles Dataset First Look\n",
        "df_titles.head()"
      ],
      "metadata": {
        "collapsed": true,
        "id": "YvctLNpgiFxT"
      },
      "execution_count": null,
      "outputs": []
    },
    {
      "cell_type": "markdown",
      "source": [
        "### Dataset Rows & Columns count"
      ],
      "metadata": {
        "id": "7hBIi_osiCS2"
      }
    },
    {
      "cell_type": "code",
      "source": [
        "# Dataset Rows & Columns count\n",
        "print(\"Credits Dataset Rows and Columns:\", df_credits.shape)\n",
        "print(\"Titles Dataset Rows and Columns:\", df_titles.shape)"
      ],
      "metadata": {
        "id": "Kllu7SJgmLij"
      },
      "execution_count": null,
      "outputs": []
    },
    {
      "cell_type": "markdown",
      "source": [
        "### Dataset Information"
      ],
      "metadata": {
        "id": "JlHwYmJAmNHm"
      }
    },
    {
      "cell_type": "code",
      "source": [
        "# Credits Dataset Info\n",
        "print(\"Credits Dataset Info:\", df_credits.info())"
      ],
      "metadata": {
        "id": "e9hRXRi6meOf",
        "collapsed": true
      },
      "execution_count": null,
      "outputs": []
    },
    {
      "cell_type": "code",
      "source": [
        "# Titles Dataset Info\n",
        "print(\"Titles Dataset Info:\", df_titles.info())"
      ],
      "metadata": {
        "collapsed": true,
        "id": "6k555R32jITD"
      },
      "execution_count": null,
      "outputs": []
    },
    {
      "cell_type": "markdown",
      "source": [
        "#### Duplicate Values"
      ],
      "metadata": {
        "id": "35m5QtbWiB9F"
      }
    },
    {
      "cell_type": "code",
      "source": [
        "# Credits Dataset Duplicate Value Count\n",
        "print(\"Credits Dataset Duplicate Values:\", df_credits.duplicated().sum())"
      ],
      "metadata": {
        "id": "1sLdpKYkmox0",
        "collapsed": true
      },
      "execution_count": null,
      "outputs": []
    },
    {
      "cell_type": "code",
      "source": [
        "# Titles Dataset Duplicate Value Count\n",
        "print(\"Titles Dataset Duplicated Values:\", df_titles.duplicated().sum())"
      ],
      "metadata": {
        "collapsed": true,
        "id": "4iDydY_Ij4wI"
      },
      "execution_count": null,
      "outputs": []
    },
    {
      "cell_type": "markdown",
      "source": [
        "#### Missing Values/Null Values"
      ],
      "metadata": {
        "id": "PoPl-ycgm1ru"
      }
    },
    {
      "cell_type": "code",
      "source": [
        "# Missing Values/Null Values Count\n",
        "print(\"Credits Dataset Missing Values:\", df_credits.isnull().sum())"
      ],
      "metadata": {
        "id": "GgHWkxvamxVg"
      },
      "execution_count": null,
      "outputs": []
    },
    {
      "cell_type": "code",
      "source": [
        "# Titles Dataset Missing Values/Null Values Count\n",
        "print(\"Titles Dataset Missing Values:\", df_titles.isnull().sum())"
      ],
      "metadata": {
        "collapsed": true,
        "id": "kUFVu5FQmOl7"
      },
      "execution_count": null,
      "outputs": []
    },
    {
      "cell_type": "code",
      "source": [
        "# Visualizing the missing values of Credits Dataset\n",
        "sns.heatmap(df_credits.isnull())\n",
        "plt.title(\"Credits Dataset Missing Values Heatmap\")\n",
        "plt.show()"
      ],
      "metadata": {
        "id": "3q5wnI3om9sJ",
        "collapsed": true
      },
      "execution_count": null,
      "outputs": []
    },
    {
      "cell_type": "code",
      "source": [
        "# Visualizing the missing values of Titles Dataset\n",
        "sns.heatmap(df_titles.isnull())\n",
        "plt.title(\"Titles Dataset Missing Values Heatmap\")\n",
        "plt.show()"
      ],
      "metadata": {
        "collapsed": true,
        "id": "8CwaDtTcmkgq"
      },
      "execution_count": null,
      "outputs": []
    },
    {
      "cell_type": "markdown",
      "source": [
        "### What did you know about your dataset?"
      ],
      "metadata": {
        "id": "H0kj-8xxnORC"
      }
    },
    {
      "cell_type": "markdown",
      "source": [
        "After analyzing the credits.csv and titles.csv datasets using the code, we can summarize the following key points:\n",
        "\n",
        "### General Overview\n",
        "  * **Credits Dataset**: Contains data about actors and directors associated with Amazon Prime shows/movies.\n",
        "  * **Titles Dataset**: Contains metadata for each show or movie available on Amazon Prime (e.g., title, genre, release year, ratings)\n",
        "\n",
        "### Rows and Columns\n",
        "\n",
        "The .shape function reveals the number of rows and columns in each dataset.\n",
        "  * df_credits -> 124235 rows and 5 columns\n",
        "  * df_titles -> 9871 rows and 15 columns\n",
        "\n",
        "### Dataset Structure\n",
        ".info() shows:\n",
        "  * Column names and data types\n",
        "  * Non-null count for each column (helps indetify missing data)\n",
        "  * Helps in understanding which columns are numerical, categorical, or object type\n",
        "\n",
        "### Duplicate Records\n",
        "The number of **duplicate rows** in each dataset is printed using .duplicated().sum().\n",
        "  * This tells us if the dataset has redundancy that may need cleaning.\n",
        "\n",
        "### Missing Values\n",
        ".isnull().sum() gives the **count of missing values** per column.\n",
        "**Heatmaps** visually show where data is missing in the datsets:\n",
        "  * More white/light areas indicate missing values\n",
        "  * Helps understand which columns may need imputation, removal, or further investigation\n",
        "\n",
        "### Insights Summary\n",
        "* We've checked the **data shape, structure, duplicates**, and **null values**\n",
        "* We've visualized missing data for a clearer picture\n",
        "* These steps are a strong **first step in understanding data quality, completeness, and potential cleaning requirements**"
      ],
      "metadata": {
        "id": "gfoNAAC-nUe_"
      }
    },
    {
      "cell_type": "markdown",
      "source": [
        "## ***2. Understanding Your Variables***"
      ],
      "metadata": {
        "id": "nA9Y7ga8ng1Z"
      }
    },
    {
      "cell_type": "code",
      "source": [
        "# Credit Dataset Columns\n",
        "print(\"Print Credit Dataset Columns:\", df_credits.columns)\n",
        "\n",
        "# Dataset Describe\n",
        "df_credits.describe()"
      ],
      "metadata": {
        "id": "j7xfkqrt5Ag5",
        "collapsed": true
      },
      "execution_count": null,
      "outputs": []
    },
    {
      "cell_type": "code",
      "source": [
        "# Title Dataset Columns\n",
        "print(\"Print Title Dataset Columns:\", df_titles.columns)\n",
        "\n",
        "# Dataset Describe\n",
        "df_titles.describe()"
      ],
      "metadata": {
        "id": "LFyBVkjXy8h7"
      },
      "execution_count": null,
      "outputs": []
    },
    {
      "cell_type": "markdown",
      "source": [
        "### Variables Description"
      ],
      "metadata": {
        "id": "PBTbrJXOngz2"
      }
    },
    {
      "cell_type": "markdown",
      "source": [
        "Answer Here"
      ],
      "metadata": {
        "id": "aJV4KIxSnxay"
      }
    },
    {
      "cell_type": "markdown",
      "source": [
        "### Check Unique Values for each variable."
      ],
      "metadata": {
        "id": "u3PMJOP6ngxN"
      }
    },
    {
      "cell_type": "code",
      "source": [
        "# Check Unique Values for Credits variable.\n",
        "for col in df_credits.columns:\n",
        "  print(f\"{col}: {df_credits[col].nunique()} unique values\")"
      ],
      "metadata": {
        "id": "zms12Yq5n-jE",
        "collapsed": true
      },
      "execution_count": null,
      "outputs": []
    },
    {
      "cell_type": "code",
      "source": [
        "# Check Unique Values for Titles variable.\n",
        "for col in df_titles.columns:\n",
        "  print(f\"{col}: {df_titles[col].nunique()} unique values\")"
      ],
      "metadata": {
        "collapsed": true,
        "id": "UockvS_o2VeY"
      },
      "execution_count": null,
      "outputs": []
    },
    {
      "cell_type": "markdown",
      "source": [
        "## 3. ***Data Wrangling***"
      ],
      "metadata": {
        "id": "dauF4eBmngu3"
      }
    },
    {
      "cell_type": "markdown",
      "source": [
        "### Data Wrangling Code"
      ],
      "metadata": {
        "id": "bKJF3rekwFvQ"
      }
    },
    {
      "cell_type": "code",
      "source": [
        "# Wrangling for Credits\n",
        "\n",
        "# Remove duplicate rows\n",
        "df_credits.drop_duplicates(inplace=True)\n",
        "\n",
        "# Checking for missing values\n",
        "print(\"Missing values in df_credits:\\n\", df_credits.isnull().sum())\n",
        "\n",
        "# Optinal: Fill missing character with \"Unknown\"\n",
        "df_credits['character'].fillna('Unknown', inplace=True)\n",
        "\n",
        "# Strip leading/trailing spaces in text columns (if any)\n",
        "df_credits['name'] = df_credits['name'].str.strip()\n",
        "df_credits['role'] = df_credits['role'].str.strip()\n",
        "\n",
        "# Reset index\n",
        "df_credits.reset_index(drop=True, inplace=True)"
      ],
      "metadata": {
        "id": "wk-9a2fpoLcV",
        "collapsed": true
      },
      "execution_count": null,
      "outputs": []
    },
    {
      "cell_type": "code",
      "source": [
        "# Visualizing the missing values of Credits Dataset\n",
        "sns.heatmap(df_credits.isnull())\n",
        "plt.title(\"Credits Dataset Removed Missing Values\")\n",
        "plt.show()"
      ],
      "metadata": {
        "id": "pxaFA0gFkx7o"
      },
      "execution_count": null,
      "outputs": []
    },
    {
      "cell_type": "code",
      "source": [
        "# Wrangling for Titles\n",
        "\n",
        "# Remove duplicate rows\n",
        "df_titles.drop_duplicates(inplace=True)\n",
        "\n",
        "# Check for missing values\n",
        "print(\"Missing values in df_titles:\\n\", df_titles.isnull().sum())\n",
        "\n",
        "# Drop rows with missing\n",
        "df_titles.dropna(subset=['imdb_id', 'tmdb_popularity'], inplace=True)\n",
        "\n",
        "# Fill missing values for other fields\n",
        "df_titles['description'].fillna('No description available', inplace=True)\n",
        "df_titles['age_certification'].fillna('Unrated', inplace=True)\n",
        "df_titles['seasons'].fillna(0, inplace=True)\n",
        "df_titles['tmdb_score'].fillna(0, inplace=True)\n",
        "df_titles['imdb_score'].fillna(0, inplace=True)\n",
        "df_titles['imdb_votes'].fillna(0, inplace=True)\n",
        "\n",
        "# Optional: Clean text columns\n",
        "df_titles['title'] = df_titles['title'].str.strip()\n",
        "df_titles['type'] = df_titles['type'].str.strip()\n",
        "\n",
        "# Reset index\n",
        "df_titles.reset_index(drop=True, inplace=True)"
      ],
      "metadata": {
        "collapsed": true,
        "id": "9i496yhhhSYa"
      },
      "execution_count": null,
      "outputs": []
    },
    {
      "cell_type": "code",
      "source": [
        "# Visualizing the missing values of Titles Dataset\n",
        "sns.heatmap(df_titles.isnull())\n",
        "plt.title(\"Titles Dataset Removed Missing Values\")\n",
        "plt.show()"
      ],
      "metadata": {
        "collapsed": true,
        "id": "FR0SI0pAkolK"
      },
      "execution_count": null,
      "outputs": []
    },
    {
      "cell_type": "markdown",
      "source": [
        "### What all manipulations have you done and insights you found?"
      ],
      "metadata": {
        "id": "MSa1f5Uengrz"
      }
    },
    {
      "cell_type": "markdown",
      "source": [
        "### On Credits Dataset\n",
        "\n",
        "**1. Duplicates Removed :**\n",
        "  * Removed all duplicate rows to ensure data consistency\n",
        "\n",
        "**2. Missing Values Treated :**\n",
        "  * Filled missing character names with \"Unknown\" to maintain completeness.\n",
        "\n",
        "**3. Text Cleaned :**\n",
        "  * Stripped leading/trailing whitespaces from name and role columns to prevent mismatches during analysis.\n",
        "\n",
        "**4. Index Reset :**\n",
        "  * Reset the index after cleaning for a fresh, clean dataframe.\n",
        "\n",
        "**5. Missing Data Visualization :**\n",
        "  * Used a heatmap to confirm that missing values have been handled properly.\n",
        "\n",
        "\n",
        "\n",
        "### On Titles Dataset\n",
        "\n",
        "**1. Duplicates Removed :**\n",
        "  * Dropped duplicate rows to avoid redundant entries.\n",
        "\n",
        "**2. Critical Null Rows Dropped :**\n",
        "  * Dropped rows where imdb_id or tmdb_popularity was missing, as they are crucial for further analysis.\n",
        "\n",
        "**3. Missing Values Filled :**\n",
        "  * description -> Filled with 'No description available'.\n",
        "  * age_certification -> Filled with 'Unrated'.\n",
        "  * seasons, tmdb_score, imdb_score, imdb_votes -> Filled with 0.\n",
        "\n",
        "**4. Text Cleaned :**\n",
        "  * Trimmed spaces from title and type columns.\n",
        "\n",
        "**5. Index Reset & Null Check :**\n",
        "  * Reset index and confirmed via heatmap that no missing values remain.\n",
        "\n",
        "\n",
        "### General Observations:\n",
        "  * **Data completeness improved significantly** after filling/removing missing values.\n",
        "  * **Duplicates were present** in both datasets, including the need for data validation befpre analysis.\n",
        "  * **Some key fields like IMDb and TMDB scores/votes has missing values,** which are now handled.\n",
        "  * **Text columns were messy (extra spaces),** which could have caused incorrect grouping or filtering-this is now fixed."
      ],
      "metadata": {
        "id": "LbyXE7I1olp8"
      }
    },
    {
      "cell_type": "markdown",
      "source": [
        "## ***4. Data Vizualization, Storytelling & Experimenting with charts : Understand the relationships between variables***"
      ],
      "metadata": {
        "id": "GF8Ens_Soomf"
      }
    },
    {
      "cell_type": "markdown",
      "source": [
        "### Content Diversity - Identify content trends based on genres, ratings, and popularity."
      ],
      "metadata": {
        "id": "0wOQAZs5pc--"
      }
    },
    {
      "cell_type": "markdown",
      "source": [
        "#### Chart 1 - Bar Chart : To show top genres by count (i.e., how many titles per genre)"
      ],
      "metadata": {
        "id": "srIi7UKkvWYf"
      }
    },
    {
      "cell_type": "code",
      "source": [
        "\n",
        "# Cleaning Genres column for duplicate values\n",
        "# Drop rows with null genres\n",
        "df_titles = df_titles[df_titles['genres'].notna()]\n",
        "\n",
        "# Convert stringified genre list to actual Python list (if needed)\n",
        "# Example: if genres are like \"['comedy', 'drama']\" (as a string), use `ast.literal_eval`\n",
        "\n",
        "import ast\n",
        "df_titles['genres'] = df_titles['genres'].apply(lambda x: ast.literal_eval(x) if isinstance(x, str) else x)\n",
        "\n",
        "# Remove duplicates within each row's genre list\n",
        "df_titles['genres'] = df_titles['genres'].apply(lambda x: list(set([genre.strip().lower() for genre in x])))\n",
        "\n",
        "# Sort the genres alphabetically for consistency\n",
        "df_titles['genres'] = df_titles['genres'].apply(sorted)\n",
        "\n",
        "# Preview cleaned genre column\n",
        "df_titles['genres']\n",
        "\n",
        "# Make a copy of the cleaned titles DataFrame\n",
        "df_exploded = df_titles.copy()\n",
        "\n",
        "# Explode the 'genres' column so each genre has its own row\n",
        "df_exploded = df_exploded.explode('genres')\n",
        "\n",
        "# Strip any whitespace and convert to lowercase (already done earlier, but just in case)\n",
        "df_exploded['genres'] = df_exploded['genres'].str.strip().str.lower()\n",
        "\n",
        "\n",
        "# Bar Chart: Number of titles per genre\n",
        "plt.figure(figsize=(12, 6))\n",
        "genre_counts = df_exploded['genres'].value_counts().head(10)\n",
        "sns.barplot(x=genre_counts.index, y=genre_counts.values, palette='Set2')\n",
        "plt.title('Top 10 Genres on Amazon Prime')\n",
        "plt.xlabel('Genre')\n",
        "plt.ylabel('Number of Titles')\n",
        "plt.xticks(rotation=45)\n",
        "plt.tight_layout()\n",
        "plt.show()"
      ],
      "metadata": {
        "id": "7v_ESjsspbW7"
      },
      "execution_count": null,
      "outputs": []
    },
    {
      "cell_type": "markdown",
      "source": [
        "##### 1. Why did you pick the specific chart?"
      ],
      "metadata": {
        "id": "K5QZ13OEpz2H"
      }
    },
    {
      "cell_type": "markdown",
      "source": [
        "**1. Clear Comparison of Categories**\n",
        "\n",
        "Genres are **categorical** variables (e.g., comedy, drama, thriller).\n",
        "A **bar chart** is perfect for showing how often each category appears - making it easy to **compare** genres by number of titles.\n",
        "\n",
        "**2. Top-N-Focus**\n",
        "\n",
        "We're focusing on the **top 10 genres**, and bar charts handle \"top-N\" visualizations **really well** by showing the most popular items clearly.\n",
        "\n",
        "**3. Quick Insights**\n",
        "\n",
        "With just a glance, viewers can easily answer:\n",
        "  * Which genres dominate the platform?\n",
        "  * Are there any surprising genre trends (e.g., rise in animation or war-related shows)?\n",
        "\n",
        "**4. Customizable**\n",
        "\n",
        "Bar charts allow:\n",
        "  * Color variation (pallete='Set2)\n",
        "  * Sorting (genre_counts already sorted)\n",
        "  * Annotaions or additional overlays if needed later (e.g. IMDb score per genre)"
      ],
      "metadata": {
        "id": "XESiWehPqBRc"
      }
    },
    {
      "cell_type": "markdown",
      "source": [
        "##### 2. What is/are the insight(s) found from the chart?"
      ],
      "metadata": {
        "id": "lQ7QKXXCp7Bj"
      }
    },
    {
      "cell_type": "markdown",
      "source": [
        "After exploding the genres column and visualizing the **Top 10 Genres** on Amazon Prime using a bar chart, here are the **key insights** derived from the chart:\n",
        "\n",
        "### 1. Dominance of Drama and Comedy\n",
        "  * **Drama** is the most common genre, followed by **Comedy**.\n",
        "  * This indicates the Amazon Prime heavily focuses on storytelling and character-driven content, which appeals to a broad audience.\n",
        "\n",
        "\n",
        "### 2. Variety in Popular Genres\n",
        "* Other frequently appearing genres include:\n",
        "  * Triller\n",
        "  * Action\n",
        "  * Romance\n",
        "  * Crime\n",
        "  * Documentation\n",
        "\n",
        "* This shows that Prime Video maintains a **balanced mix** of content across emotions (romance), excitement (action), and suspense (thriller).\n",
        "\n",
        "### 3. Family and Animation Also Have a Strong Presence\n",
        "* **Family** and **Animation** genres are also in the top 10, highlighting Amazon Prime's efforts to target **kids and family-friendly audiences.**"
      ],
      "metadata": {
        "id": "C_j1G7yiqdRP"
      }
    },
    {
      "cell_type": "markdown",
      "source": [
        "### 3. Will the gained insights help creating a positive business impact?\n",
        "Are there any insights that lead to negative growth? Justify with specific reason."
      ],
      "metadata": {
        "id": "448CDAPjqfQr"
      }
    },
    {
      "cell_type": "markdown",
      "source": [
        "### Positive Business Impact:\n",
        "\n",
        "#### 1. Content Strategy Alignement\n",
        "* Knowing that **Drama, Comedy** and **Romance** dominate the platform allows Amazon Prime to:\n",
        "  * Continue investigating in **high-demand** content.\n",
        "  * Plan **original productions** around popular genres.\n",
        "  * License shows/movies that resonate with viewer interests.\n",
        "\n",
        "#### 2. Audience Targeting\n",
        "* High presence of **Family** and **Animation** genres suggests a large **family-oriented** or **younger audience**.\n",
        "\n",
        "  * This helps with **targeted marketing**, personalised recommendations, and better **ad campaign alignment**.\n",
        "\n",
        "#### 3. Content Gaps & Diversification\n",
        "* If genres like **Sci-fi, Documentary,** or **Historical** are underrepresented, this insight allows the business to **fill content gaps** and attract niche users.\n",
        "\n",
        "#### 4. User Retenstion & Growth\n",
        "* Serving content in preferred genres helps keep users **engaged longer**, improving subscription renewals and platform stickiness.\n",
        "\n",
        "\n",
        "### Potential Insights Leading to Negative Growth (if not acted upon):\n",
        "\n",
        "#### 1. Over-Concentration in Few Genres\n",
        "* Over-reliance on genres like **Drama** and **Comedy** could lead to **viewer fatigue.**\n",
        "  * If users feel the content is too repetitive or lacks variety, they may **churn** to platforms with more diverse offerings (e.g., Netflix with more Sci Fi/ Documentary content).\n",
        "\n",
        "#### 2. Underrepresented Genres = Missed Opportunities\n",
        "* Low presence of certain genres may indicate a **missed opportunity** to attract **genre-specific communities** (e.g., Anime lovers, Tech Enthusiasts, History Buffs)\n",
        "\n",
        "### Summary:\n",
        "* **Positive Impact** comes from understanding user preferences, improving recommendations, boosting engagement, and aliging investment with audience demand.\n",
        "* **Negative trends** like genre saturation or gaps can be **corrected** by proactively **diversifying content** and targeting unmet interests."
      ],
      "metadata": {
        "id": "3cspy4FjqxJW"
      }
    },
    {
      "cell_type": "markdown",
      "source": [
        "#### Chart 2 - Histogram : Distribution of Ratings"
      ],
      "metadata": {
        "id": "KSlN3yHqYklG"
      }
    },
    {
      "cell_type": "code",
      "source": [
        "# Check for missing values in rating columns\n",
        "print(df_titles['imdb_score'].isnull().sum())\n",
        "print(df_titles['tmdb_score'].isnull().sum())\n",
        "\n",
        "# Fill missing scores with 0 or mean if necessary\n",
        "df_titles['imdb_score'].fillna(0, inplace=True)\n",
        "df_titles['tmdb_score'].fillna(0, inplace=True)\n",
        "\n",
        "# Understand the spread of ratings\n",
        "print(df_titles[['imdb_score', 'tmdb_score']].describe())\n"
      ],
      "metadata": {
        "id": "R4YgtaqtYklH",
        "collapsed": true
      },
      "execution_count": null,
      "outputs": []
    },
    {
      "cell_type": "code",
      "source": [
        "# Set the overall style\n",
        "sns.set(style=\"whitegrid\")\n",
        "\n",
        "# Create two subplots (stacked vertically)\n",
        "fig, axes = plt.subplots(2, 1, figsize=(10, 8), sharex=True)\n",
        "\n",
        "# IMDb Score Distribution\n",
        "sns.histplot(df_titles['imdb_score'], bins=20, kde=True, color='skyblue', label='IMDb', ax=axes[0])\n",
        "axes[0].set_title('Distribution of IMDb Ratings')\n",
        "axes[0].set_ylabel('Number of Titles')\n",
        "\n",
        "\n",
        "# TMDB Score Distribution\n",
        "sns.histplot(df_titles['tmdb_score'], bins=20, kde=True, color='salmon', label='TMDB', ax=axes[1])\n",
        "axes[1].set_title('Distribution of TMDB Ratings')\n",
        "axes[1].set_xlabel('Rating')\n",
        "axes[1].set_ylabel('Number of Titles')\n",
        "\n",
        "\n",
        "\n",
        "plt.tight_layout()\n",
        "plt.show()"
      ],
      "metadata": {
        "id": "L2QZKjLiVT_R"
      },
      "execution_count": null,
      "outputs": []
    },
    {
      "cell_type": "markdown",
      "source": [
        "##### 1. Why did you pick the specific chart?"
      ],
      "metadata": {
        "id": "t6dVpIINYklI"
      }
    },
    {
      "cell_type": "markdown",
      "source": [
        "**Purpose**\n",
        "To understand how the **ratings** (IMDb and TMDB) are **distributed** across all titles - are they skewed, normal, or have outliers?\n",
        "\n",
        "**Reasons for Choosing Histogram:**\n",
        "\n",
        "**1. Visualizes Distibution Clearly**\n",
        "\n",
        "Histograms are perfect for showing the **frequency of rating values** - i.e., how many titles have IMDb score of 7, 8, etc.\n",
        "\n",
        "\n",
        "**2. Highlights Skewness & Spread**\n",
        "\n",
        "It helps us see whether the ratings are **left-skewed, right-skewed,** or **normally distributed.**\n",
        "\n",
        "\n",
        "**3. Easy to Compare**\n",
        "\n",
        "By placing the IMDb and TMDB distributions in **separate subplots**, we get a **clear comparison** without overlapping the charts.\n",
        "\n",
        "\n",
        "**4. KDE Curve Enhances Understanding**\n",
        "\n",
        "The KDE (Kernal Density Estimate) line gives us a **smoothed view** of how the ratings are distributed, which complements the histogram bars.\n",
        "\n",
        "**5. Supports Business Insights**\n",
        "\n",
        "Knowing how most titles are rated helps us:\n",
        "  * Identify **quality perception** trends\n",
        "  * Understand **platform standards**\n",
        "  * Recognize rating gaps between IMDb and TMDB\n"
      ],
      "metadata": {
        "id": "5aaW0BYyYklI"
      }
    },
    {
      "cell_type": "markdown",
      "source": [
        "##### 2. What is/are the insight(s) found from the chart?"
      ],
      "metadata": {
        "id": "ijmpgYnKYklI"
      }
    },
    {
      "cell_type": "markdown",
      "source": [
        "**1. Majority of titles have mid-range ratings**\n",
        "* Most titles are clustered between **6 and 8** for both IMDb and TMDB scores.\n",
        "* This indicates that **average to good quality** content dominates the platform.\n",
        "\n",
        "**2. Very few titles have extremely low or high ratings**\n",
        "* Very **few titles have ratings below 4 or above 9**\n",
        "* Indicates that there are **not many poor or exceptional titles,** or such content may be filtered out / less promoted.\n",
        "\n",
        "**3. TMDB ratings tend to be more centered / uniform**\n",
        "* The **TMDB score** distribution appears **more compact and less spread out** than IMDb.\n",
        "* This suggests **TMDB users may rate content more consistently**, or the rating system smooths extremes.\n",
        "\n",
        "**4. IMDb ratings are slightly more spread out**\n",
        "* IMDb ratings have a **slightly wider spread,** showing **greater variance in audience opinions**.\n",
        "\n",
        "**5. Possible Platform Perception Difference**\n",
        "* If a title has a higher score on TMDB but lower on IMDb (or vice versa), it can hint at **demographic or regional preferences** on each platform."
      ],
      "metadata": {
        "id": "PSx9atu2YklI"
      }
    },
    {
      "cell_type": "markdown",
      "source": [
        "##### 3. Will the gained insights help creating a positive business impact?\n",
        "Are there any insights that lead to negative growth? Justify with specific reason."
      ],
      "metadata": {
        "id": "-JiQyfWJYklI"
      }
    },
    {
      "cell_type": "markdown",
      "source": [
        "### Positive Business Impact:\n",
        "\n",
        "**1. Content Acquisition & Recommendation Strategy**\n",
        "* Knowing that most content falls within the **6-8 rating range,** the platform can:\n",
        "  * Focus on acquiring or producing more **high-performing content (8+).**\n",
        "  * Avoid investing in **low-rated content (<5)** that may result in poor user engagement.\n",
        "\n",
        "  **2. Personalized User Experience**\n",
        "  * Understanding how **audiences rate content** helps improve **recommendation engines:**\n",
        "    * Suggest titles based on user preference ranges (e.g., users who like 7+ scores).\n",
        "    * Create dynamic playlists or homepage carousels based on **top-rated titles.**\n",
        "\n",
        "  **3. Content Marketing & Promotion**\n",
        "  * Highly rated content can be promoted with labels like **\"Top Rated\"**, which improves click-through rates.\n",
        "  * Lower-rated titles can be **rebranded or bundled** to improve perception.\n",
        "\n",
        "  **4. Audience Segmentation**\n",
        "  * IMDb and TMDB rating patterns could hint at **demographic preferences**.\n",
        "    * Ex: TMDB users might prefer a different genre or language.\n",
        "    * Helps **target ads or content by region or age group.**\n",
        "\n",
        "\n",
        "### Negative Growth Triggers (Potential Risks):\n",
        "**1. Too Much Average Content**\n",
        "* If most content sits in the **mid-range (6-7)**, the platform risks becoming **mediocre or unmemorable.**\n",
        "  * Could affect **brand perception** and **user retention**.\n",
        "\n",
        "**2. Ignoring Niche Audiences**\n",
        "* Over-focusing on top-rated content might exclude **niche or cult favorites**, which have loyal audiences.\n",
        "  * A balanced mix is essential.\n",
        "\n",
        "**3. Overdependece on Ratings**\n",
        "* Ratings alone don't reflect **viewer engagement, watch time,** or **virality**.\n",
        "  * Need to correlate with **actual viewership data** for better decisions."
      ],
      "metadata": {
        "id": "BcBbebzrYklV"
      }
    },
    {
      "cell_type": "markdown",
      "source": [
        "#### Chart 3 - Bar Chart : Compare Ratings Across Genres\n",
        "Use the exploded genre data to analyze average ratings per genre."
      ],
      "metadata": {
        "id": "EM7whBJCYoAo"
      }
    },
    {
      "cell_type": "code",
      "source": [
        "# Group by genre and get average ratings\n",
        "avg_ratings_by_genre = df_exploded.groupby('genres')[['imdb_score', 'tmdb_score']].mean().sort_values('imdb_score', ascending=False).head(10)\n",
        "\n",
        "# Bar plot\n",
        "avg_ratings_by_genre.plot(kind='bar', figsize=(12, 6), colormap='viridis')\n",
        "plt.title(\"Top 10 Genres by Average Ratings\")\n",
        "plt.ylabel(\"Average Rating\")\n",
        "plt.xticks(rotation=45)\n",
        "plt.tight_layout()\n",
        "plt.show()"
      ],
      "metadata": {
        "id": "t6GMdE67YoAp",
        "collapsed": true
      },
      "execution_count": null,
      "outputs": []
    },
    {
      "cell_type": "markdown",
      "source": [
        "##### 1. Why did you pick the specific chart?"
      ],
      "metadata": {
        "id": "fge-S5ZAYoAp"
      }
    },
    {
      "cell_type": "markdown",
      "source": [
        "**1. Clear Genre Comparison:**\n",
        "Bar charts are excellent for **side-by-side comparisons.** In this case:\n",
        "  * We're comparing **IMDb** and **TMDB** average scores across the **top 10 genres.**\n",
        "  * The chart allows us to easily see which genres are **highest or lowest rated.**\n",
        "\n",
        "**2. Categorical vs Numeric Data:**\n",
        "* The genres column is **categorical.**\n",
        "* imdb_score and tmdb_score are **numerical.**\n",
        "* Bar plots are ideal when comparing **numeric metrics across categories.**\n",
        "\n",
        "**3. Visual Clarity & Readability:**\n",
        "* Using color coding(colormap='virdis) makes it easier to **distinguish between rating types.**\n",
        "* Genres are listed on the x-asix, and their average ratings are on the y-axis, which is **intutive** for most audiences.\n",
        "\n",
        "**4. Quick Insights:**\n",
        "* One can immediately spot which genres are **critically acclaimed** and which are **less appreciated** by audiences.\n",
        "* Helps highlight **content quality trends per genre.**\n"
      ],
      "metadata": {
        "id": "5dBItgRVYoAp"
      }
    },
    {
      "cell_type": "markdown",
      "source": [
        "##### 2. What is/are the insight(s) found from the chart?"
      ],
      "metadata": {
        "id": "85gYPyotYoAp"
      }
    },
    {
      "cell_type": "markdown",
      "source": [
        "Answer Here"
      ],
      "metadata": {
        "id": "4jstXR6OYoAp"
      }
    },
    {
      "cell_type": "markdown",
      "source": [
        "##### 3. Will the gained insights help creating a positive business impact?\n",
        "Are there any insights that lead to negative growth? Justify with specific reason."
      ],
      "metadata": {
        "id": "RoGjAbkUYoAp"
      }
    },
    {
      "cell_type": "markdown",
      "source": [
        "### Positive Business Impact:\n",
        "**1. Content Strategy Optimization:**\n",
        "Knowing that genres like **Drama, War,** or **History** receive **higher average ratings,** platforms like Amazon Prime can:\n",
        "* **Prioritize acquiring or producing** more high-quality content in these genres.\n",
        "* **Highlight theese genres in promotions** to attract quality-conscious viewers.\n",
        "\n",
        "**2. Enhanced Recommendation Systems:**\n",
        "* Recommender algorithms can be fine-tuned using **rating data per genre,** helping suggest better-rated content to users.\n",
        "* This leads to **higher engagement, more viewing time,** and **improved customer satisfaction.**\n",
        "\n",
        "**3. Targeted Marketing:**\n",
        "* Genres with high ratings can be used in **targeted ads or featured banners** to improve click-through and conversion rates.\n",
        "* For example, \"Top-rated War Dramas\" may attract users specifically interested in intense, emotional stories.\n",
        "\n",
        "\n",
        "### Potential Negative Insights (Growth Risks):\n",
        "**1. Overproduction in Low-Rated Genres:**\n",
        "* If genres like **Comedy** or **Action** show **relatively lower average ratings**, this could indicate **quality inconsistency** or **audience fatigue.**\n",
        "* **Continuing to invest heavily** in such genres without innovation may lead to **wasted budgets and reduced viewer retention.**\n",
        "\n",
        "**2. Ignoring Niche But High-Rated Genres:**\n",
        "* If niche genres (e.g., **Documentary, Mystery**) are **highly rated but underrepresented,** negleecting them can mean **missed opportunities** in untapped markets.\n",
        "\n",
        "**3. Platform Reputation Risks:**\n",
        "* A platform loaded with **low-rated content** may affect its **brand image**, especially if competitors focus on critically acclaimed or curated content."
      ],
      "metadata": {
        "id": "zfJ8IqMcYoAp"
      }
    },
    {
      "cell_type": "markdown",
      "source": [
        "#### Chart 4 - Scatterplot : IMDb vs TMDB by Type"
      ],
      "metadata": {
        "id": "4Of9eVA-YrdM"
      }
    },
    {
      "cell_type": "code",
      "source": [
        "plt.figure(figsize=(10, 10))\n",
        "sns.scatterplot(x='imdb_score', y='tmdb_score', hue='type', data=df_titles, alpha=0.6, palette='Set1')\n",
        "plt.title('IMDb Score vs TMDB Score by Type')\n",
        "plt.xlabel('IMDb Score')\n",
        "plt.ylabel('TMDB Score')\n",
        "plt.grid(True)\n",
        "plt.legend(title='Type')\n",
        "plt.tight_layout()\n",
        "plt.show()"
      ],
      "metadata": {
        "id": "irlUoxc8YrdO",
        "collapsed": true
      },
      "execution_count": null,
      "outputs": []
    },
    {
      "cell_type": "markdown",
      "source": [
        "##### 1. Why did you pick the specific chart?"
      ],
      "metadata": {
        "id": "iky9q4vBYrdO"
      }
    },
    {
      "cell_type": "markdown",
      "source": [
        "#### 1. Relationship Analysis Between Two Variables\n",
        "* A scatterplot is perfect to **visually compare the correlation between two continuous variables** - in this case, imdb_score and tmdb_score.\n",
        "* It helps identify if there's a **linear relationship, clustering, or outliers** in the ratings data.\n",
        "\n",
        "#### 2. Multivariate Visualization (with Type)\n",
        "* By using hue='type', we add a **third variable (content type: movie, show, etc.)** to the analysis.\n",
        "* This allows us to **observe how ratings fiffer between types** - whether movies are generally higher rated than shows, for example.\n",
        "\n",
        "#### 3. Visual Density and Overlap\n",
        "* Using alpha=0.6 adds transparency, allowing us to **see overlapping points,** making it easier to detect dense rating areas.\n"
      ],
      "metadata": {
        "id": "aJRCwT6DYrdO"
      }
    },
    {
      "cell_type": "markdown",
      "source": [
        "##### 2. What is/are the insight(s) found from the chart?"
      ],
      "metadata": {
        "id": "F6T5p64dYrdO"
      }
    },
    {
      "cell_type": "markdown",
      "source": [
        "**1. Positive Correlation Between IMDb and TMDB Ratings**\n",
        "* There's a **moderate positive correlation** - as IMDb scores increase, TMDB scores tend to increase too.\n",
        "* However, the correlation isn't perfect; **some titles rated highly on one platform are rated lower on the other.**\n",
        "\n",
        "**2. Clustering in Mid-Range Ratings**\n",
        "* Most titles, regardless of type, tend to cluster around the **5-7 rating range** on both IMDb and TMDB.\n",
        "* Very few titles have extreme ratings (either very high or very low).\n",
        "\n",
        "**3. Type-Based Distribution**\n",
        "* When separated by type (e.g., **movie** vs **show**), we may notice:\n",
        "  * **Movies** tend to have a slightly **wider spread** in both low and high ratings.\n",
        "  * **Shows** might be more concentrated in the mid-rating range.\n",
        "* This suggests that **movies might be more polarizing,** whereas **shows are more consistently rated.**\n",
        "\n",
        "**4. Outliers**\n",
        "* Some titles show significant **discrepancy between IMDb and TMDB scores -** possibly due to:\n",
        "  * Different user bases\n",
        "  * Varying review criteria\n",
        "  * Regional preferences or release timing differences"
      ],
      "metadata": {
        "id": "Xx8WAJvtYrdO"
      }
    },
    {
      "cell_type": "markdown",
      "source": [
        "##### 3. Will the gained insights help creating a positive business impact?\n",
        "Are there any insights that lead to negative growth? Justify with specific reason."
      ],
      "metadata": {
        "id": "y-Ehk30pYrdP"
      }
    },
    {
      "cell_type": "markdown",
      "source": [
        "### Positive Business Impact\n",
        "The insights gained from the **IMDb vs TMDB score scatterplot by content type** can significantly help decision-making in the following ways:\n",
        "\n",
        "**1. Audience Perception Alignment**\n",
        "* A **positive correlation** between IMDb and TMDB ratings indicates that audiences on both platforms have similar perceptions.\n",
        "* This helps platforms like Amazon Prime understand that **aggregating ratings from both sources is valid and uuseful for quality measurement.**\n",
        "\n",
        "**2. Strategic Content Investment**\n",
        "* By observing **which type (Movie or Show)** performs better (more consistently high-rated), businesses can **allocate mre budget toward that content type.**\n",
        "  * For example, if **movies show a wider spread** but higher peaks, more high-quality films could be a valuable investment.\n",
        "  * If **shows are more consistent,** they could be used to retain long-term subscribers.\n",
        "\n",
        "**3. User Satisfaction Monitoring**\n",
        "* Discrepancies between IMDb and TMDB scores can help **identify titles with mixed reception,** giving teams a chance to dig deeper into:\n",
        "  * What audiences liked/disliked\n",
        "  * Regional differences\n",
        "  * Marketing or expectation gaps\n",
        "\n",
        "**4. Enhance Recommendations**\n",
        "* Knowing how content types are rated helps refine **recommendation engines,** ensuring better personalization and improved **user engagement and retention.**\n",
        "\n",
        "\n",
        "### Possible Insights Leading to Negative Growth\n",
        "**1. Inconsistent Ratings Between Platforms**\n",
        "* Titles with large gaps between IMDb and TMDB scores could lead to **confusion or mistrust** among users - impacting the credibility of platform ratings.\n",
        "\n",
        "**2. Mid-Tier Content Saturation**\n",
        "* If a large portion of content clusters around **5-7 ratings,** it may indicate a **lack of standout, high-quality content,** which could:\n",
        "  * Reduce excitement and interest\n",
        "  * Impact new user acquisition\n",
        "  * Lead to **subscriber churn** over time\n",
        "\n",
        "**3. Underperforming Content Type**\n",
        "* If one content type (e.g., shows) consistently underperforms, it might be a **waste of production or licensing resources,** unless quality is improved."
      ],
      "metadata": {
        "id": "jLNxxz7MYrdP"
      }
    },
    {
      "cell_type": "markdown",
      "source": [
        "### Regional Availability - Explore regional and certification-based content availability to identify gaps or strengths in specific markets or age groups."
      ],
      "metadata": {
        "id": "pFao5pe52UJt"
      }
    },
    {
      "cell_type": "markdown",
      "source": [
        "#### Chart 5 - Bar Chart: Top Countries by Content Volume\n",
        "Goal : See which regions have the most titles available."
      ],
      "metadata": {
        "id": "bamQiAODYuh1"
      }
    },
    {
      "cell_type": "code",
      "source": [
        "# Cleaning production_countries column for duplicate values\n",
        "# Drop rows with null production_countries\n",
        "df_titles = df_titles[df_titles['production_countries'].notna()]\n",
        "\n",
        "# Convert stringified production_countries list to actual Python list (if needed)\n",
        "# Example: if production_countries are like \"['US', 'CN']\" (as a string), use `ast.literal_eval`\n",
        "\n",
        "import ast\n",
        "df_titles['production_countries'] = df_titles['production_countries'].apply(lambda x: ast.literal_eval(x) if isinstance(x, str) else x)\n",
        "\n",
        "# Remove duplicates within each row's production_countries list\n",
        "df_titles['production_countries'] = df_titles['production_countries'].apply(lambda x: list(set([genre.strip().lower() for genre in x])))\n",
        "\n",
        "# Sort the production_countries alphabetically for consistency\n",
        "df_titles['production_countries'] = df_titles['production_countries'].apply(sorted)\n",
        "\n",
        "# Preview cleaned production_countries column\n",
        "df_titles['production_countries']\n",
        "\n",
        "# Make a copy of the cleaned titles DataFrame\n",
        "df_exploded = df_titles.copy()\n",
        "\n",
        "# Explode the 'production_countries' column so each genre has its own row\n",
        "df_exploded = df_exploded.explode('production_countries')\n",
        "\n",
        "# Strip any whitespace and convert to lowercase (already done earlier, but just in case)\n",
        "df_exploded['production_countries'] = df_exploded['production_countries'].str.strip().str.lower()\n",
        "\n",
        "\n",
        "# Bar Chart: Number of titles per production_countries\n",
        "plt.figure(figsize=(12, 6))\n",
        "genre_counts = df_exploded['production_countries'].value_counts().head(10)\n",
        "sns.barplot(x=genre_counts.index, y=genre_counts.values, palette='Set2')\n",
        "plt.title('Top 10 Production Countries on Amazon Prime')\n",
        "plt.xlabel('Production Countries')\n",
        "plt.ylabel('Number of Titles')\n",
        "plt.xticks(rotation=45)\n",
        "plt.tight_layout()\n",
        "plt.show()"
      ],
      "metadata": {
        "id": "TIJwrbroYuh3",
        "collapsed": true
      },
      "execution_count": null,
      "outputs": []
    },
    {
      "cell_type": "markdown",
      "source": [
        "##### 1. Why did you pick the specific chart?"
      ],
      "metadata": {
        "id": "QHF8YVU7Yuh3"
      }
    },
    {
      "cell_type": "markdown",
      "source": [
        "Bar chart is ideal for visualizing and comparing **discrete categories,** in this case, **production countries.** Bar charts clearly show differences in the **volume of content** associated with each country, making it easy to identify the top contributors.\n",
        "Since we are looking at **frequency counts** (number of titles per country), a bar chart allows us to quickly interpret:\n",
        "  * Which countries produce the most content available on the platform.\n",
        "  * How production volume varies across regions.\n",
        "  * Relative differences between the top producers.\n",
        "\n",
        "The chart is especially effective here due to:\n",
        "  * A **limited number of categories** (top 10 countries), which fits well in a horizontal/vertical format.\n",
        "  * Clear **labeling and comparison** of each region's contribution.\n",
        "  * Easy scalability if we want to adjust the number of countries shown (top 5, top 15, etc.)."
      ],
      "metadata": {
        "id": "dcxuIMRPYuh3"
      }
    },
    {
      "cell_type": "markdown",
      "source": [
        "##### 2. What is/are the insight(s) found from the chart?"
      ],
      "metadata": {
        "id": "GwzvFGzlYuh3"
      }
    },
    {
      "cell_type": "markdown",
      "source": [
        "From the **Bar Chart of Top 10 Production Countries,** we can draw the following insights:\n",
        "  **1. Dominance of Certain Countries:** A few countries like **United States, India,** and **United Kingdom** dominate content production on Amazon Prime. These countries have produced the **highest number of titles** available on the platform.\n",
        "\n",
        "  **2. Regional Variety:** The presence of countries from **different continents** (e.g., US, IN, JP, CA, DE) shows that Amazon Prime is sourcing content **globally**, not just from Western markets.\n",
        "\n",
        "  **3. Emerging Markets:** Countries with relatively smaller counts but still in the top 10 (like **Japan, Canada, Germany, Italy** or **Australia**) inidcate growing content contribution - potentially **rising opportunities** for content acquisition or local production.\n",
        "\n",
        "  **4. Underrepresentation:** Regions like **Africa, South America** or smaller Asian countries might be **underrepresented** in the current content library, hinting at potential **market expansion** or content investment opportunities.\n",
        "\n"
      ],
      "metadata": {
        "id": "uyqkiB8YYuh3"
      }
    },
    {
      "cell_type": "markdown",
      "source": [
        "##### 3. Will the gained insights help creating a positive business impact?\n",
        "Are there any insights that lead to negative growth? Justify with specific reason."
      ],
      "metadata": {
        "id": "qYpmQ266Yuh3"
      }
    },
    {
      "cell_type": "markdown",
      "source": [
        "### Positive Business Impact:\n",
        "* **Targeted Content Acquisition:** Indetifying top-performing countries (like the US, India and the UK) enables Amazon Prime to **strengthen partnerships** and invest in content that already has proven demand and volume.\n",
        "\n",
        "* **Localization Strategies:** With clear visibility of content-rich regions,Amazon can focus on **localizing** successful international content (through dubbing/subtitles), enhancing user experience and engagement in multilingual markets.\n",
        "\n",
        "* **Regional Expansion Opportunities:** Countries that are **underepresented** or missing in the top 10 can be seen as **untapped markets.** Amazon can invest in original content or licensing deals in those regions to expand its global footprint.\n",
        "\n",
        "\n",
        "### Possible Indicators of Negative Growth:\n",
        "* **Overreliance on Few Countries:** A high concentration of titles from a limited number of countries may lead to **cultural saturation** or lack of diversity in content. This can result in **viewer fatigue** or loss of interest from global audiences seeking variety.\n",
        "\n",
        "* **Neglected Regions:** Lack of content from certain regions (like Africa or Latin America) could signal **missed opportunities,** potentially allowing competitors to dominate those markets."
      ],
      "metadata": {
        "id": "_WtzZ_hCYuh4"
      }
    },
    {
      "cell_type": "markdown",
      "source": [
        "#### Chart 6 - Stacked Bar Chart: Age Certification by Country"
      ],
      "metadata": {
        "id": "OH-pJp9IphqM"
      }
    },
    {
      "cell_type": "code",
      "source": [
        "# NOTE : FOR BETTER VIEW, TO SEE IT WITHOUT 'unrated' VALUES, PLEASE RE-RUN IT (RUN IT TWICE).\n",
        "\n",
        "# Explode country column (if it's a list) and drop missing values\n",
        "df_cert = df_titles.copy()\n",
        "df_cert['production_countries'] = df_cert['production_countries'].apply(lambda x: x if isinstance(x, list) else [x])\n",
        "df_cert = df_cert.explode('production_countries')\n",
        "\n",
        "# Drop 'unrated' rows\n",
        "df_titles = df_titles[df_titles['age_certification'].str.lower() != 'unrated']\n",
        "\n",
        "# Group and plot\n",
        "cert_country = pd.crosstab(df_cert['production_countries'], df_cert['age_certification'])\n",
        "cert_country = cert_country[cert_country.sum(axis=1) > 20]\n",
        "\n",
        "\n",
        "cert_country.plot(kind='bar', stacked=True, figsize=(14, 6), colormap='tab20c')\n",
        "plt.title('Content Certifications by Country')\n",
        "plt.xlabel('Country')\n",
        "plt.ylabel('Number of Titles')\n",
        "plt.legend(title='Age Certification', bbox_to_anchor=(1.05, 1), loc='upper left')\n",
        "plt.tight_layout()\n",
        "plt.show()"
      ],
      "metadata": {
        "id": "kuRf4wtuphqN"
      },
      "execution_count": null,
      "outputs": []
    },
    {
      "cell_type": "markdown",
      "source": [
        "##### 1. Why did you pick the specific chart?"
      ],
      "metadata": {
        "id": "bbFf2-_FphqN"
      }
    },
    {
      "cell_type": "markdown",
      "source": [
        "This chart is ideal for this case because:\n",
        "\n",
        "#### 1. Comparative + Compositional Insight\n",
        "* It shows **how many titles** each country has (like a regular bar chart), and\n",
        "* Within each country, it visually breaks down **how those titles are distributed across different age certifications** (e.g., PG, R, 18+)\n",
        "\n",
        "#### 2. Clear View of Proportions\n",
        "* You can immediately see:\n",
        "  * Which age certifications dominate in which countries.\n",
        "  * How age ratings **differ across regions.**\n",
        "  * Whether a country focuses more on **family-friendly** vs **mature content.**\n",
        "\n",
        "#### 3. Easy to Compare Across Countries\n",
        "* While individual bars show total content volume,\n",
        "* The stacked sections allow comparison of **certification diversity and dominance** per country."
      ],
      "metadata": {
        "id": "loh7H2nzphqN"
      }
    },
    {
      "cell_type": "markdown",
      "source": [
        "##### 2. What is/are the insight(s) found from the chart?"
      ],
      "metadata": {
        "id": "_ouA3fa0phqN"
      }
    },
    {
      "cell_type": "markdown",
      "source": [
        "**1. Variation in Certification Mix Across Countries:**\n",
        "  * Some countries have a **broader spread** across age certifications, while others are skewed toward specific categories.\n",
        "    * For example, a country might have a high volume of **TV-MA (Mature)** content, while another might favor **PG or TV-G**\n",
        "\n",
        "**2. Regional Content Preferences:**\n",
        "  * Certain countries produce or host more **family-friendly** content (e.g., G, PG).\n",
        "  * Others lean more heavily toward **adult or mature content** (e.g., R, 18+, TV-MA), reflecting **audience preferences** or **regulatory differences.**\n",
        "\n",
        "**3. High Content Volume Countries Stand Out:**\n",
        "  * Countries like the **US, UK or India** (depending on data) may have significantly **more total titles,** regardless of rating category.\n",
        "\n",
        "**4. Unrated Titles Were Removed:**\n",
        "  * After cleaning, only certified content is shown - this helps clarify which countries are **actively regulating or labeling** their content.\n",
        "\n",
        "**5. Dominance of Youth-Safe Content in Some Regions:**\n",
        "  * In some countries, **G, TV-Y, PG** categories dominate - possibly due to a strong focus on **family entertainment** or **stricetr content guidelines.**"
      ],
      "metadata": {
        "id": "VECbqPI7phqN"
      }
    },
    {
      "cell_type": "markdown",
      "source": [
        "##### 3. Will the gained insights help creating a positive business impact?\n",
        "Are there any insights that lead to negative growth? Justify with specific reason."
      ],
      "metadata": {
        "id": "Seke61FWphqN"
      }
    },
    {
      "cell_type": "markdown",
      "source": [
        "The insights gained from the **Age Certification by Country** chart can drive **strategic, content-driven business decisions,** especially in the areas of **regional targeting, licensing, and compliance.**\n",
        "\n",
        "#### Positive Business Impact:\n",
        "**1. Market-Specific Content Strategy:**\n",
        "  * If a country shows a higher volume of **PG or TV-G** content, platforms can prioritize **family-safe, educational, or animated content** for that market.\n",
        "  * Countries favouring **Tv-Ma, R, or 18+** can be targeted with more **gritty dramas, thrillers, or documentaries.**\n",
        "\n",
        "**2. Audience Growth & Engagement:**\n",
        "  * By aligning content offerings with local **age-certification trends**, businesses can improve **user retention** and **satisfaction** especially among **parents** or **young adult viewers**.\n",
        "\n",
        "**3. Compliance & Legal Clarity:**\n",
        "  * Understanding the age-certification mix helps avoid **legal issues** related to inappropriate content in markets with **strict content laws**.\n",
        "  * Enables platforms to **proactively adapt** to government or regional regulations.\n",
        "\n",
        "**4. Strategic Expansion Planning:**\n",
        "  * Identifying **underrepresented certifications** (e.g., missing youth content in a country with a large young audience) reveals **gaps** that can be filled by either producing or acquiring content for that niche.\n",
        "\n",
        "#### Insights that may signal negative growth or challenges:\n",
        "**1. Over-concentration in a Single Certification:**\n",
        "  * if a country's content is too heavily skewed toward **one age group** (e.g., mostly 18+ or only PG), it may indicate a **lack of diversity** - potentially **alienating other demographics.**\n",
        "\n",
        "**2. Low Certification Transparency (previously 'unrated'):**\n",
        " * A high number of previously unrated titles (now removed) suggests a **lack of content classification**, which could harm **trust** and **user confidence**, especially among parents or cautious viewers.\n",
        "\n",
        "**3. Regulatory Risk:**\n",
        "  * If age certifications don't align with **local standards,** platforms risk content being **banned, flagged**, or **heavily restricted** in certain countries - impacting **reach** and **revenue**."
      ],
      "metadata": {
        "id": "DW4_bGpfphqN"
      }
    },
    {
      "cell_type": "markdown",
      "source": [
        "#### Chart 7 - Heatmap: Correlation Between Regions and Certifications\n",
        "Goal: Show intensity of content availability across certifications and regions."
      ],
      "metadata": {
        "id": "PIIx-8_IphqN"
      }
    },
    {
      "cell_type": "code",
      "source": [
        "plt.figure(figsize=(12, 8))\n",
        "sns.heatmap(cert_country.T, annot=True, fmt='d', cmap='YlGnBu')\n",
        "plt.title('Heatmap: Age Certification Distribution Across Countries')\n",
        "plt.xlabel('Country')\n",
        "plt.ylabel('Age Certification')\n",
        "plt.tight_layout()\n",
        "plt.show()"
      ],
      "metadata": {
        "id": "lqAIGUfyphqO",
        "collapsed": true
      },
      "execution_count": null,
      "outputs": []
    },
    {
      "cell_type": "markdown",
      "source": [
        "##### 1. Why did you pick the specific chart?"
      ],
      "metadata": {
        "id": "t27r6nlMphqO"
      }
    },
    {
      "cell_type": "markdown",
      "source": [
        "**1. Visualizes Intensity Clearly**\n",
        "  * A heatmap uses color gradients to reflect the **magnitude** of values (i.e., the number of titles).\n",
        "  * This makes it easy to spot **which countries have the most content for each age certification.**\n",
        "\n",
        "**2. Compact and Multi-Dimensional**\n",
        "  * It fits **two categorical variables** (countries vs. age certifications) in a compact grid.\n",
        "  * No need for multiple bar charts - everything is shown in one unified view.\n",
        "\n",
        "**3. Highlights Trends & Gaps Instantly**\n",
        "  * High-density regions stand out with darker/more intense colors.\n",
        "  * Sparse or missing areas are easily spotted as light or blank spaces - useful for **identifying gaps**.\n",
        "\n",
        "**4. Good for Stakeholders**\n",
        "  * Stakeholders can quickly understand which countries target kids (e.g., '7+', '13+') and which favour mature content (e.g., '18+')\n",
        "  * Supports **market strategy** - where to grow family-friendly vs. adult content."
      ],
      "metadata": {
        "id": "iv6ro40sphqO"
      }
    },
    {
      "cell_type": "markdown",
      "source": [
        "##### 2. What is/are the insight(s) found from the chart?"
      ],
      "metadata": {
        "id": "r2jJGEOYphqO"
      }
    },
    {
      "cell_type": "markdown",
      "source": [
        "**1. Country-wise Focus on Content Types:**\n",
        "  * Certain countries (like **US, IN, GB**) have a **wide spread** across all age certifications - indicating a **diverse content library** catering to all age groups.\n",
        "  * Some countries may have a **high concentration** in specific age certifications (e.g., mostly **'18+'** or **'13+'**), suggesting a **targeted demographic focus.**\n",
        "\n",
        "**2. Unbalanced Certification Distribution:**\n",
        "  * You might notice **lower representation of kid's content** (e.g., **'7+'** or **'all'**) in several regions.\n",
        "  * On the other hand, **'16+'** and **'18+'** categories are dominant in many countries, showing a trend toward **mature content**.\n",
        "\n",
        "**3. Reginal Gaps:**\n",
        "  * Some countries have **very few or no titles** in certain certifications - a potential **gap in offerings** for specific age groups.\n",
        "  * This may represent an opportunity to **introduce more age-diverse content** in those regions.\n",
        "\n",
        "**4. Certification Trends Across Borders:**\n",
        "  * The same age certifications are **not evenly popular or avaialble** across countries - possibly due to **local regulations or cultural preferences.**\n",
        "  * For example, **'13+'** content might be more popular in Western regions, while **'16+'** dominates elsewhere."
      ],
      "metadata": {
        "id": "Po6ZPi4hphqO"
      }
    },
    {
      "cell_type": "markdown",
      "source": [
        "##### 3. Will the gained insights help creating a positive business impact?\n",
        "Are there any insights that lead to negative growth? Justify with specific reason."
      ],
      "metadata": {
        "id": "b0JNsNcRphqO"
      }
    },
    {
      "cell_type": "markdown",
      "source": [
        "#### Positive Business Impact:\n",
        "**1. Content Strategy Personalization:**\n",
        "  * Insights into age certification preferences by country enable **targeted content curation** - e.g., pushing more **family-friednly or kid's content** in regions where they're underrepresented can attract broader audiences.\n",
        "\n",
        "**2. Market Expansion Opportunities:**\n",
        "  * Countries with **lower content volumes in certain certifications** (like **'all'** or **'7+'**) indicate **gaps in the catalog.** Filling these can help **capture untapped market segments,** such as children or families.\n",
        "\n",
        "**3. Compliance & Localization Readiness:**\n",
        "  * Understanding which certifications dominate where helps align with **local content rating standards,** ensuring **faster approvals** and **smoother launches** in new ewgions.\n",
        "\n",
        "\n",
        "#### Possible Negative Growth Areas:\n",
        "**1. Over-saturation in Mature Content:**\n",
        "  * Heavy dominance of **'16+'** or **'18+'** content across multiple regions may signal **limited appeal to younger viewers** and families - potentially alienating a **large user segment.**\n",
        "\n",
        "**2. Neglecting Local Preferences:**\n",
        "  * If content offerings are **not aligned with regional tastes or regulations,** it may lead to **poor engagement** or even **content removals** by authorities."
      ],
      "metadata": {
        "id": "xvSq8iUTphqO"
      }
    },
    {
      "cell_type": "markdown",
      "source": [
        "### Trends Over Time: Measure content performance over time to track how the library has evolved and what types of content are gaining traction."
      ],
      "metadata": {
        "id": "vPP9wG-uI2lt"
      }
    },
    {
      "cell_type": "markdown",
      "source": [
        "#### Chart 8 - Line Chart : Best for showing changes over time\n",
        "Goal : Track how the volume of content (movies/TV shows) has changed over time."
      ],
      "metadata": {
        "id": "BZR9WyysphqO"
      }
    },
    {
      "cell_type": "code",
      "source": [
        "# Count number of titles released each year\n",
        "yearly_trend = df_titles['release_year'].value_counts().sort_index()\n",
        "plt.figure(figsize=(12, 8))\n",
        "sns.lineplot(x=yearly_trend.index, y=yearly_trend.values, marker='o')\n",
        "plt.title('Evolution of Content Library Over Time')\n",
        "plt.xlabel('Release Year')\n",
        "plt.ylabel('Number of Titles')\n",
        "plt.grid(True)\n",
        "plt.tight_layout()\n",
        "plt.show()"
      ],
      "metadata": {
        "id": "TdPTWpAVphqO"
      },
      "execution_count": null,
      "outputs": []
    },
    {
      "cell_type": "markdown",
      "source": [
        "##### 1. Why did you pick the specific chart?"
      ],
      "metadata": {
        "id": "jj7wYXLtphqO"
      }
    },
    {
      "cell_type": "markdown",
      "source": [
        "Line chart is the most effective and intuitive way to visualize **changes over time.** Here's why:\n",
        "\n",
        "**1. Time Series Clarity:**\n",
        "\n",
        "  A line chart clearly shows trends across sequential time intervals (in this case, release years), making it easy to observe rises and drops in content volume.\n",
        "\n",
        "**2. Smooth Visual Flow:**\n",
        "\n",
        "  The connected data points highlight patterns like growth spurts, plateaus, or declines, helping us understand how the content library evolved year by year.\n",
        "\n",
        "**3. Trend Detection:**\n",
        "\n",
        "  It's ideal for identifying:\n",
        "    * Peak content production years\n",
        "    * Periods of decline\n",
        "    * Steady growth trends\n",
        "\n",
        "**4. Simlpicity + Insight:**\n",
        "\n",
        "  Compared to bar charts, line plots handle many time intervals without cluttering, keeping the focus on trend **direction** and **pace**, not just counts."
      ],
      "metadata": {
        "id": "Ob8u6rCTphqO"
      }
    },
    {
      "cell_type": "markdown",
      "source": [
        "##### 2. What is/are the insight(s) found from the chart?"
      ],
      "metadata": {
        "id": "eZrbJ2SmphqO"
      }
    },
    {
      "cell_type": "markdown",
      "source": [
        "**1. Growth in Content Volume Over Time**\n",
        "\n",
        "There's usually a **steady increase** in the number of titles added over the years - indicating that Amazon Prime has been **expanding its content library**, especially in recent years.\n",
        "\n",
        "**2. Possible Drop in Recent Years**\n",
        "\n",
        "If there's a slight dip in the last year or two, it may be due to:\n",
        "  * Incomplete data for recent years\n",
        "  * External disruptions (like COVID-19)\n",
        "  * Strategic content reshuffling or budget shifts\n",
        "\n",
        "**3. Peak Production Years**\n",
        "\n",
        "Some years might show **sharp spikes** - likely due to investments in original content, market expansion, or licensing deals.\n",
        "\n",
        "**4. Content Boom Era**\n",
        "\n",
        "The chart often highlights a 'boom phase' (e.g., post-2007) where content production or acquisition accelerated - possibly aligning with global market entry or competition with platforms like Netflix and Disney+."
      ],
      "metadata": {
        "id": "mZtgC_hjphqO"
      }
    },
    {
      "cell_type": "markdown",
      "source": [
        "##### 3. Will the gained insights help creating a positive business impact?\n",
        "Are there any insights that lead to negative growth? Justify with specific reason."
      ],
      "metadata": {
        "id": "rFu4xreNphqO"
      }
    },
    {
      "cell_type": "markdown",
      "source": [
        "#### Positive Business Impact:\n",
        "**1. Data-Driven Content Strategy**\n",
        "\n",
        "Understanding which years had the **highest growth in titles** helps Amazon Prime evaluate the **effectiveness of past content investment strategies** - e.g., if a spike in content also aligned with increased subscriptions or engagement.\n",
        "\n",
        "**2. Identify Expansion Periods**\n",
        "\n",
        "The chart helps pinpoint **when Amazon expanded aggressively**, which regions might've benefited, and which content types (e.g., original vs. licensed) were prioritized.\n",
        "\n",
        "**3. Forecasting**\n",
        "\n",
        "This trendline can be used to **forecast future content needs** - indentifying whether the platform needs to **scale up or optimize** content creation.\n",
        "\n",
        "\n",
        "#### Insights Leading to Negative Growth:\n",
        "**Recent Decline in Content Volume**\n",
        "\n",
        "If the chart shows a **downward trend in recent years,** it could signal:\n",
        "  * Budget cuts\n",
        "  * Strategic shifts\n",
        "  * Less content acquisition\n",
        "  * Production delays\n",
        "\n",
        "If **not intentional,** it might **negatively impact user engagement**, especially if subscribers notice a lack of fresh content.\n",
        "\n",
        "\n",
        "**2.Saturation Point**\n",
        "\n",
        "A **flattening line** might indicate the platform has reached a **saturation point** in certain genres or markets - which calls for **innovative or diversified content.**"
      ],
      "metadata": {
        "id": "ey_0qi68phqO"
      }
    },
    {
      "cell_type": "markdown",
      "source": [
        "#### Chart 9 - Line Chart : Time Trend by Type (Movie vs Show)"
      ],
      "metadata": {
        "id": "YJ55k-q6phqO"
      }
    },
    {
      "cell_type": "code",
      "source": [
        "# Group by year and type\n",
        "type_trend = df_titles.groupby(['release_year', 'type']).size().reset_index(name='count')\n",
        "\n",
        "# Lineplot for each type\n",
        "plt.figure(figsize=(12, 8))\n",
        "sns.lineplot(data=type_trend, x='release_year', y='count', hue='type', marker='o')\n",
        "plt.title('Types of Content Gaining Traction Over Time')\n",
        "plt.xlabel('Release Year')\n",
        "plt.ylabel('Number of Titles')\n",
        "plt.grid(True)\n",
        "plt.tight_layout()\n",
        "plt.show()"
      ],
      "metadata": {
        "id": "B2aS4O1ophqO",
        "collapsed": true
      },
      "execution_count": null,
      "outputs": []
    },
    {
      "cell_type": "markdown",
      "source": [
        "##### 1. Why did you pick the specific chart?"
      ],
      "metadata": {
        "id": "gCFgpxoyphqP"
      }
    },
    {
      "cell_type": "markdown",
      "source": [
        "* **Line Charts** are the most effective way to visualize **trends over time**, especially when analyzing how values change **year-by-year**.\n",
        "\n",
        "* Using **separate lines for each content type (Movie vs Show)** makes it easy to **compare their growth patterns side-by-side**\n",
        "\n",
        "#### Why It Works for This Case:\n",
        "**1. Clarity:** Each line clearly represents a content type, showing how their volume has changed from year to year.\n",
        "\n",
        "**2. Comparision:** The chart helps **visually compare the trajectory** of movies vs shows - whether one is growing faster, catching up, or slowing sown.\n",
        "\n",
        "**3. Time-Focused:** Since the goal is to measure **how types of content gain traction over time**, line charts map this avolution naturally and intuitively."
      ],
      "metadata": {
        "id": "TVxDimi2phqP"
      }
    },
    {
      "cell_type": "markdown",
      "source": [
        "##### 2. What is/are the insight(s) found from the chart?"
      ],
      "metadata": {
        "id": "OVtJsKN_phqQ"
      }
    },
    {
      "cell_type": "markdown",
      "source": [
        "#### 1. Shift in Content Strategy\n",
        "* There may be a **steady increase in both Movies and TV Shows** over the years, but..\n",
        "* **One type may show a sharper rise** - for example, if shows are growing faster than movies, it signals a strategic shift toward episodic content (binge-watching trends, long-term viewer retention).\n",
        "\n",
        "#### 2. Content Surge in Specific Years\n",
        "* Certain years might display a **significant spike in content production**.\n",
        "  * This can indicate:\n",
        "    * Platform expansion\n",
        "    * Acquisition of new titles\n",
        "    * Increased investment in originals\n",
        "\n",
        "#### 3. Plateau or Decline\n",
        "Any visible **plateau or decline** in a particular content type (e.g., movie count dropping) could hint at:\n",
        "  * Market saturation\n",
        "  * Strategic Reduction\n",
        "  * Shifting viewer preferences\n",
        "\n",
        "#### 4. Consistency vs Volatility\n",
        "* If movies show **more consistent yearly release,** while shows fluctuate more, it could mean:\n",
        "  * Movies are safer bets for regular content pipelines\n",
        "  * TV shows may be teid to bigger, riskier investments or seasonal launches"
      ],
      "metadata": {
        "id": "ngGi97qjphqQ"
      }
    },
    {
      "cell_type": "markdown",
      "source": [
        "##### 3. Will the gained insights help creating a positive business impact?\n",
        "Are there any insights that lead to negative growth? Justify with specific reason."
      ],
      "metadata": {
        "id": "lssrdh5qphqQ"
      }
    },
    {
      "cell_type": "markdown",
      "source": [
        "#### Positive Business Impact\n",
        "**1. Content Strategy Alignment**\n",
        "  * If the data shows that **TV shows are gaining traction** over time, platforms can **prioritize long-form series**, which enhance user engagement and increase wtach time (beneficial for ad revenue and retention).\n",
        "\n",
        "**2. Resources Allocation**\n",
        "  * Understanding which content type is rising helps in **budget planning** - e.g., investing more in shows if they drive user growth.\n",
        "\n",
        "**3. Marketing Campaigns**\n",
        "  * Peaks in specific years or types can inform **promotional strategies** - for instance, celebrating \"content milestones\" or pushing nostalgia-based campaigns.\n",
        "\n",
        "**4. Catalog Planning**\n",
        "  * Identifying slower years helps planners **plug content gaps** during low seasons or experiment with diverse formats.\n",
        "\n",
        "#### Insights That May Indicate Negative Growth\n",
        "**1. Stagnation or Decline in a Content Type**\n",
        "  * If movies (or shows) are **declining over time**, it may reflect:\n",
        "    * Audience fatigue\n",
        "    * Reduced licensing/acquisition\n",
        "    * Misalignment with current viewing habits\n",
        "\n",
        "**2. Overproduction Without Engagement**\n",
        "  * If the **volume of new titles increases but doesn't align with viewership growth,** it may suggest **inefficient investment** - poring resources into content that doesn't convert into value."
      ],
      "metadata": {
        "id": "tBpY5ekJphqQ"
      }
    },
    {
      "cell_type": "markdown",
      "source": [
        "#### Chart 10 - Line Chart : Top 5 Trending Genres Over Time"
      ],
      "metadata": {
        "id": "U2RJ9gkRphqQ"
      }
    },
    {
      "cell_type": "code",
      "source": [
        "# Cleaning Genres column for duplicate values\n",
        "# Drop rows with null genres\n",
        "df_titles = df_titles[df_titles['genres'].notna()]\n",
        "\n",
        "# Convert stringified genre list to actual Python list (if needed)\n",
        "# Example: if genres are like \"['comedy', 'drama']\" (as a string), use `ast.literal_eval`\n",
        "\n",
        "import ast\n",
        "df_titles['genres'] = df_titles['genres'].apply(lambda x: ast.literal_eval(x) if isinstance(x, str) else x)\n",
        "\n",
        "# Remove duplicates within each row's genre list\n",
        "df_titles['genres'] = df_titles['genres'].apply(lambda x: list(set([genre.strip().lower() for genre in x])))\n",
        "\n",
        "# Sort the genres alphabetically for consistency\n",
        "df_titles['genres'] = df_titles['genres'].apply(sorted)\n",
        "\n",
        "# Preview cleaned genre column\n",
        "df_titles['genres']\n",
        "\n",
        "# Make a copy of the cleaned titles DataFrame\n",
        "df_exploded = df_titles.copy()\n",
        "\n",
        "# Explode the 'genres' column so each genre has its own row\n",
        "df_exploded = df_exploded.explode('genres')\n",
        "\n",
        "# Strip any whitespace and convert to lowercase (already done earlier, but just in case)\n",
        "df_exploded['genres'] = df_exploded['genres'].str.strip().str.lower()\n",
        "\n",
        "\n",
        "# Group and filter top genres\n",
        "df_exploded['release_year'] = pd.to_numeric(df_exploded['release_year'], errors='coerce')\n",
        "\n",
        "top_genres = df_exploded['genres'].dropna().value_counts().head(5).index\n",
        "df_top_genres = df_exploded[df_exploded['genres'].isin(top_genres)]\n",
        "\n",
        "genre_trend = df_top_genres.groupby(['release_year', 'genres']).size().reset_index(name='count')\n",
        "\n",
        "plt.figure(figsize=(14, 10))\n",
        "sns.lineplot(data=genre_trend, x='release_year', y='count', hue='genres', marker='o')\n",
        "plt.title('Trending Genres Over Time')\n",
        "plt.xlabel('Release Year')\n",
        "plt.ylabel('Number of Titles')\n",
        "plt.grid(True)\n",
        "plt.tight_layout()\n",
        "plt.show()"
      ],
      "metadata": {
        "id": "GM7a4YP4phqQ"
      },
      "execution_count": null,
      "outputs": []
    },
    {
      "cell_type": "markdown",
      "source": [
        "##### 1. Why did you pick the specific chart?"
      ],
      "metadata": {
        "id": "1M8mcRywphqQ"
      }
    },
    {
      "cell_type": "markdown",
      "source": [
        "#### 1. Best for Temporal Analysis\n",
        "* Line charts are ideal for showing **how values change over time**.\n",
        "* They allow you to **track trends, spot peaks or drops**, and **compare multiple categories (genres)** across a continuous axis (release years).\n",
        "\n",
        "#### 2. Clear Genre Comparison\n",
        "* Using different colored lines for each genre helps in **visually comparing** the popularity of genres across years.\n",
        "* The chart helps answer:\n",
        " \"Which genres have become more or less popular over time?\"\n",
        "\n",
        "#### 3. Insights at a Glance\n",
        "* We can easily spot:\n",
        "  * Sudden **spike** in interest (e.g., action movies post-2010)\n",
        "  * **Declining trends** in specific genres\n",
        "  * **Consistent performers** that stay popular year over year\n",
        "\n",
        "#### 4. Scalable & Intuitive\n",
        "* Limiting to the **top 5 genres** keeps the chart clean and easy to interpret.\n",
        "* The chart works even as you scale time (e.g., decades) or group genres by category (e.g., thriller + suspense)."
      ],
      "metadata": {
        "id": "8agQvks0phqQ"
      }
    },
    {
      "cell_type": "markdown",
      "source": [
        "##### 2. What is/are the insight(s) found from the chart?"
      ],
      "metadata": {
        "id": "tgIPom80phqQ"
      }
    },
    {
      "cell_type": "markdown",
      "source": [
        "#### 1. Consistent Genre Leaders\n",
        "* **Drama** and **Comedy** appear to consistently dominate across most years.\n",
        "* These genres show **stable and high vloume** of content, indicating strong and ongoing audience demand.\n",
        "\n",
        "#### 2. Rising Genre Trends\n",
        "* Genres like **Action** and **Thriller** show **significant growth** in recent years (e.g., post-2007), suggesting:\n",
        "  * Audience interest in fast-paced or suspense-driven content is increasing.\n",
        "  * Platforms may be **investing more in these genres** recently.\n",
        "\n",
        "#### 3. Genre Saturation or Decline\n",
        "* One or more genres (depending on the dataset) may show a **declining trend**, which could be due to:\n",
        "  * **Market saturation**\n",
        "  * Shift in **audience preferences**\n",
        "  * **Lower production** in that category\n",
        "\n",
        "#### 4. Genre Volatility\n",
        "* Some genres may show **fluctuations** (ups and downs) year to year.\n",
        "* This might be influenced by:\n",
        "  * Popular franchise releases\n",
        "  * Social or political climate\n",
        "  * Streaming trends (e.g., crime dramas booming during lockdowns)\n"
      ],
      "metadata": {
        "id": "Qp13pnNzphqQ"
      }
    },
    {
      "cell_type": "markdown",
      "source": [
        "##### 3. Will the gained insights help creating a positive business impact?\n",
        "Are there any insights that lead to negative growth? Justify with specific reason."
      ],
      "metadata": {
        "id": "JMzcOPDDphqR"
      }
    },
    {
      "cell_type": "markdown",
      "source": [
        "#### Positive Business Impact:\n",
        "**1. Strategic Content Investment**\n",
        "  * Knowing that **Drama** and **Comedy** consistently perform well helps platforms **prioritize funding** into those genres.\n",
        "  * Investing in **Action** or **Triller**, which show upward trends, could **capitalize on rising audience interest**.\n",
        "\n",
        "**2. Targeted Marketing**\n",
        "  * For newly released or upcoming content, marketing teams can **focus campaigns** on trending genres to **boost engagement and reach**.\n",
        "\n",
        "**3. Regional & Temporal Planning**\n",
        "  * Combing this genre trend with **regional preferences** or **certification insights** can help tailor **what content is promoted where and when**.\n",
        "\n",
        "**4. User Retention & Experience**\n",
        "  * Recommending trending genres to users increases **watch-time and satisfaction**, which improves **retention metrics**.\n",
        "\n",
        "#### Insights That May Indicate Negative Growth:\n",
        "**1. Declining Genre Popularity**\n",
        "  * If certain genre are steadily declining (e.g., **Romance** or **Documentary**, depending on your dataset), continuing to invest heavily in them may result in:\n",
        "    * **Lower ROI**\n",
        "    * **Decreased viewer engagement**\n",
        "    * **Content underperformance**\n",
        "\n",
        "**2. Genre Saturation**\n",
        "  * Even high-performing genres like **Drama** might hit a **plateau** if overproduced without innovation, causing:\n",
        "    * Audience fatigue\n",
        "    * Reduced excitement around new titles\n",
        "\n",
        "#### Justification:\n",
        "* Content trends are directly tied to **viewer behaviour**, which drives **subscription growth, watch time,** and **churn rate**.\n",
        "* Monitoring what's rising and what's fading helps businesses **stay agile, optimize production costs,** and **maximize audience impact**."
      ],
      "metadata": {
        "id": "R4Ka1PC2phqR"
      }
    },
    {
      "cell_type": "markdown",
      "source": [
        "### Contribution & Diversification of Roles: by ratings, regions & content"
      ],
      "metadata": {
        "id": "Ga87pe3luZcm"
      }
    },
    {
      "cell_type": "markdown",
      "source": [
        "#### Chart 11 - Bar Chart : Actors or Directors whome contribute most to High-Rated Content?\n",
        "Goal: Identify people consistently involved in high-performing content."
      ],
      "metadata": {
        "id": "AIRP8aGrjC8J"
      }
    },
    {
      "cell_type": "code",
      "source": [
        "# Merge on 'id' to get title details along with credits\n",
        "df_merged = pd.merge(df_credits, df_titles, on='id')\n",
        "\n",
        "# Define high-rated as IMDb score >= 7\n",
        "high_rated = df_merged[df_merged['imdb_score'] >= 7]\n",
        "\n",
        "# Filter for roles\n",
        "high_rated_roles = high_rated[high_rated['role'].isin(['ACTOR', 'DIRECTOR'])]\n",
        "\n",
        "# Count top 10 actors and top 10 directors separately\n",
        "top_actors = (\n",
        "    high_rated_roles[high_rated_roles['role'] == 'ACTOR']['name']\n",
        "    .value_counts()\n",
        "    .head(10)\n",
        "    .reset_index()\n",
        "    .rename(columns={'index' : 'name'})\n",
        ")\n",
        "top_actors['role'] = 'ACTOR'\n",
        "\n",
        "\n",
        "top_directors = (\n",
        "    high_rated[high_rated['role'] == 'DIRECTOR']['name']\n",
        "    .value_counts()\n",
        "    .head(10)\n",
        "    .reset_index()\n",
        "    .rename(columns={'index' : 'name'})\n",
        ")\n",
        "top_directors['role'] = 'DIRECTOR'\n",
        "\n",
        "# Combine both\n",
        "combined = pd.concat([top_actors, top_directors])\n",
        "\n",
        "# Visualize\n",
        "plt.figure(figsize=(14, 8))\n",
        "sns.barplot(data=combined, x='count', y='name', hue='role', palette='Set2')\n",
        "plt.title('Top 20 High-Rated Contributors (Actors & Directors, IMDb ≥ 7)')\n",
        "plt.xlabel('Number of High-Rated Titles')\n",
        "plt.ylabel('Contributor Name')\n",
        "plt.legend(title='Role')\n",
        "plt.tight_layout()\n",
        "plt.show()"
      ],
      "metadata": {
        "collapsed": true,
        "id": "F-bHAoLNjKjS"
      },
      "execution_count": null,
      "outputs": []
    },
    {
      "cell_type": "markdown",
      "source": [
        "##### 1. Why did you pick the specific chart?"
      ],
      "metadata": {
        "id": "i2AVYO37bVYd"
      }
    },
    {
      "cell_type": "markdown",
      "source": [
        "The **Grouped Horizontal Bar Chart** was choosen for this use case because it is particularly well-suited to the **goal**:\n",
        "\n",
        "**\"Identify people consistency involved in high-performing content\"**\n",
        "\n",
        "#### **1. Easy Comparison Across Two Roles**\n",
        "We're comparing **actors vs directors**:\n",
        "  * The hue='role' clearly distinguishes **Actors** from **Directors** using different colors.\n",
        "  * Grouped bars side by side allow us to see which role dominates the top contributions.\n",
        "\n",
        "#### **2. Horizontal Orientation Improves Label Readability**\n",
        "  * Contributor **names can be long**, so placing them on the y-axis (vertically) makes them easier to read.\n",
        "  * This avoids clutter and overlapping text, especially when displaying **20 individuals**.\n",
        "\n",
        "#### **3. Clear Quantitative Insight**\n",
        "  * The x-axis shows the **numer of high-rated titles (IMDB >= 7)**.\n",
        "  * It's easy to visually compare who has more appearances and **how much more.**\n",
        "\n",
        "#### **4. Suitable for Categorical + Count Data**\n",
        "  * You're dealing with **categorical data** (name, role) and **count/ frequency** (number of high-rated titles), which is the perfect use case for a bar plot."
      ],
      "metadata": {
        "id": "KAgSSoNYu9Kp"
      }
    },
    {
      "cell_type": "markdown",
      "source": [
        "##### 2. What is/are the insight(s) found from the chart?"
      ],
      "metadata": {
        "id": "ekuZ-lB3bY_b"
      }
    },
    {
      "cell_type": "markdown",
      "source": [
        "**1. Some individuals consistently contribute to high-rated content:**\n",
        "\n",
        "  * Certain **actors and directors** appear repeatedly in titles with IMDb scores >= 7, indicating a **strong track record** of working on successful projects.\n",
        "  * These contributors are likely **trusted names in the industry** fordelivering quality content.\n",
        "\n",
        "**2. Top Actors dominate in frequency:**\n",
        "\n",
        "  * If actors occupy more positions in the top 20 or have **taller bars**, it suggests that **actors have more consistent involvement** in high-performing titles than directors - or perhaps they participate in more projects overall.\n",
        "  * This might impy a **broader range on opportunities** or roles abailable to actors vs. directors.\n",
        "\n",
        "**3. Directors also have a strong presence:**\n",
        "\n",
        "  * Some directors appear almost as frequently as the top actors, indicating their **influence in shaping high-rated content**.\n",
        "  * This shows that while actors bring visibility, **directors play a critical creative role** in driving quality.\n",
        "\n",
        "**4. Name & Role pairing helps recognize dual contributors:**\n",
        "\n",
        "  * If a person appears as both **actor and director** in different entries (e.g., through parentheses in names like Ben Affleck (ACTOR) and Ben Affleck (DIRECTOR)), it can highlight **multi-talented contributors**.\n",
        "\n",
        "**5. Data-driven recommendation opportunities:**\n",
        "\n",
        "  * These top contributors could be **valuble casting choices** for future high-quality produtions.\n",
        "  * Streaming platforms or producers could use this list to **predict potential content success** based on past trends."
      ],
      "metadata": {
        "id": "FEMyO_QpyAep"
      }
    },
    {
      "cell_type": "markdown",
      "source": [
        "##### 3. Will the gained insights help creating a positive business impact?\n",
        "Are there any insights that lead to negative growth? Justify with specific reason."
      ],
      "metadata": {
        "id": "HCK3fR-JbcoB"
      }
    },
    {
      "cell_type": "markdown",
      "source": [
        "#### Positive Business Impact Insights:\n",
        "\n",
        "**1. Identifying Top Contributors for Future Projects:**\n",
        "\n",
        "  * **Actors and Directors** who are consistently involved in high-rated content are valuable assets to future productions. By focusing on these **top contributors,** business can **increase the likelihood of success** in their content creation.\n",
        "  * Producers, streaming platforms, or production companies could leverage this data to **formulate casting and director choices** for new projects, thereby **ensuring high-quality content** and **improved ratings** (boosting audience engagement and loyalty).\n",
        "\n",
        "**2. Strategic Casting and Production Decisions:**\n",
        "\n",
        "  * The insights can help casting departments ad production studios **target high-performing actors and directors** to create content that is **more likely to attract positive reviews** (IMDb scores >= 7).\n",
        "  * The **reputation of actors and directors** can also be used to **increase marketing value,** as these individuals have built a trusted brand with their audience. **brand alignment** with these top contributors can attract more subscribers or viewers.\n",
        "\n",
        "**3. Content Personalization and Targeting:**\n",
        "\n",
        "  * Streaming platforms can use these insights to craete **personalized recommendations** based on **actor-director collaborations** that audiences may prefer. For instance, if a viewer consistently enjoys movies with a particular actor or director, the platform can surface content featuring them more prominently.\n",
        "  * This drives higher **user satisfaction, engagement, and retention**, contributing positively to the business's long-term growth.\n",
        "\n",
        "**4. Proven Success Predictors for High-Rated Content:**\n",
        "\n",
        "  * The data shows which contributors have a **high success rate** in terms of IMDb ratings. By focusing on these individuals, companies can **replicate past successes** more effectively.\n",
        "  * This can help businesses focus their resources on **content with higher potential returns,** making them more efficient in their decision-making.\n",
        "\n",
        "#### Negative Growth Insights:\n",
        "**1. Over-reliance on a Small Pool of Contributors:**\n",
        "\n",
        "  * If the chart reveals that only a **few actors and directors** dominate the high-rated content, there could be a **narrow talent pool** being overused. This can lead to **creative stagnation** and audience fatigue as people see the same individuals in multiple roles.\n",
        "  * **viewer interest** might decline if they feel the content lacks diversity or novelty, leading to **diminishing return** in terms of engagement and viewership.\n",
        "\n",
        "**2. Risk of Marginalizing Other Talent:**\n",
        "\n",
        "  * By **focusing too much on the top contributors,** business may inadvertently **neglect promising talent** who have the potential for future sucess but haven't had the same number of opportunities yet. This could hurt the **diversity and creativity** of content in the long run.\n",
        "  * If companies only invest in the same set of popular contributors, it could lead to **lower innovation** and **homogeneous content**, potentially alienating audiences looking for fresh ideas and new talent.\n",
        "\n",
        "**3. Overemphasis on Past Success:**\n",
        "\n",
        "  * The data is based on **historical performance** (IMDb >= 7), and it might overlook **emerging talent or new trends** in the industry. Focusing too much on **past high-rated contributors** can lead to missed opportunities with **new or emerging actors and directors** who are breaking into the industry with strong performance but haven't yet reached the same level of recognition.\n",
        "  * **Innovation** might be stifled if businesses don't take into account evolving tastes or fresh perspectives from **up-and-coming talents.**\n",
        "\n",
        "**4. Bias Toward Popular Content:**\n",
        "\n",
        "  * If a business only looks at **IMDb ratings** to identify success, it might inadvertently **ignore diverse or niche content** that may not have broad appeal but could be **culturally or critically significant.** This could lead to an overly commercialized approach, prioritizing blockbuster hits over unique, niche, or indie content that might appeal to specific segment of the market.\n",
        "\n",
        "#### Justification:\n",
        "**Positive Impact Justification:**\n",
        "\n",
        "  * By identifying top performers (actors, directors), businesses can capitalize on their reliable track record, ensuring higher quality content, and engaging larger audiences, which directly impacts viewership and business profitability.\n",
        "\n",
        "  * Strategic investments in these top contributors improve return on investment (ROI) for content production.\n",
        "\n",
        "**Negative Growth Justification:**\n",
        "\n",
        "  * Creativity and innovation can be limited when businesses overly focus on a small group of familiar faces. Overusing the same contributors can reduce variety, ultimately hurting audience engagement and loyalty over time.\n",
        "\n",
        "  * Diversity in talent is crucial for long-term success, as it helps prevent audience fatigue and promotes fresh storytelling."
      ],
      "metadata": {
        "id": "VmOxYnDo1wfv"
      }
    },
    {
      "cell_type": "markdown",
      "source": [
        "#### Chart 12 - Scatter Plot : Correlation between Cast Size and Content Ratings\n",
        "Goal: Analyze whether having more (or fewer) cast members influences IMDb/TMDB scores."
      ],
      "metadata": {
        "id": "tIMnWEId5Q2t"
      }
    },
    {
      "cell_type": "code",
      "source": [
        "df_actors = df_credits[df_credits['role'] == 'ACTOR']\n",
        "\n",
        "# Count unique actor names per content ID\n",
        "cast_size_per_title = df_actors.groupby('id')['name'].nunique().reset_index()\n",
        "cast_size_per_title.columns = ['id', 'cast_size']\n",
        "\n",
        "df_cast_rating = pd.merge(cast_size_per_title, df_titles[['id', 'imdb_score', 'tmdb_score', 'title']], on='id')\n",
        "\n",
        "# Compute correlation\n",
        "correlation = df_cast_rating[['cast_size', 'imdb_score', 'tmdb_score']].corr()\n",
        "print(correlation)\n",
        "\n",
        "import seaborn as sns\n",
        "import matplotlib.pyplot as plt\n",
        "\n",
        "plt.figure(figsize=(14, 6))\n",
        "\n",
        "# IMDb\n",
        "plt.subplot(1, 2, 1)\n",
        "sns.scatterplot(data=df_cast_rating, x='cast_size', y='imdb_score', alpha=0.6)\n",
        "plt.title('Cast Size vs IMDb Score')\n",
        "plt.xlabel('Cast Size')\n",
        "plt.ylabel('IMDb Score')\n",
        "\n",
        "# TMDB\n",
        "plt.subplot(1, 2, 2)\n",
        "sns.scatterplot(data=df_cast_rating, x='cast_size', y='tmdb_score', alpha=0.6, color='orange')\n",
        "plt.title('Cast Size vs TMDB Score')\n",
        "plt.xlabel('Cast Size')\n",
        "plt.ylabel('TMDB Score')\n",
        "\n",
        "plt.tight_layout()\n",
        "plt.show()"
      ],
      "metadata": {
        "id": "KCUnKjc1nLnf"
      },
      "execution_count": null,
      "outputs": []
    },
    {
      "cell_type": "markdown",
      "source": [
        "##### 1. Why did you pick the specific chart?"
      ],
      "metadata": {
        "id": "rthFvJMnb8Lh"
      }
    },
    {
      "cell_type": "markdown",
      "source": [
        "The goal of this analysis is to examine the relationship between **cast size** and **content ratings** (both IMDb and TMDB scores). A **scatter plot** is ideal in this case for several reasons:\n",
        "\n",
        "**1. Visualizing Relationships Between Two Variables:**\n",
        "\n",
        "  * Scatter plots allow us to clearly see how two continuous variables are related to each other. In this case, we are comparing **cast size** (the number of actors in a given piece of content) with **IMDb and TMDB scores** (continuous rating scores). Scatter plots provide a clear and intuitive way to identify trends, clusters, or patterns in the data.\n",
        "\n",
        "**2. Identify Correlations:**\n",
        "\n",
        "  * Scatter plots are particularly useful for identifying **positive, negative, or no correlation** between two variables. By plotting cast size against the ratings, we can easily observe if there's a trend suggesting that **larger or smaller casts** influence **higher or lower ratings. We can visually assess whether the number of actors has any notable impact on the ratings.\n",
        "\n",
        "**3. Clarity with Multiple Comparisions:**\n",
        "\n",
        "  * Using **two separate scatter plots** (one for IMDb and one for TMDB scores) enables us to make direct comparisons of how cast size impacts **each platform's rating**. The side-by-side plots allow for easier comparison without cluttering a single chart.\n",
        "\n",
        "**4. Handling Outliers:**\n",
        "\n",
        "  * Scatter plots can highlight **outliers** that may not follow the general trend of the dats. For example, a movie with an unusually large cast and a very high IMDb score or a low TMDB score would be easy to spot, allowing for further investigation.\n",
        "\n",
        "**5. Correlation Calculation:**\n",
        "\n",
        "  * The scatter plots provide a visual clue to the **correlation coefficient** we computed. If the points tend to align along a straight line (whether upward or downward), it suggests a **strong correlation**. If the points are spread widely without any clear pattern, it indicates **week or no correlation**.\n",
        "\n",
        "\n",
        "##### Interpretation of the Chart's Utility:\n",
        "**Scatter Plot 1 (IMDb Score vs Cast Size):**\n",
        "\n",
        "  * This helps us understand if there's any relationship between the number of actors in a content piece and its IMDb rating. For example, if we see a positive correlation, it might suggest that movies or shows with more actors tend to have higher IMDb ratings. Conversely, a negative correlation would suggest that larger casts result in lower ratings.\n",
        "\n",
        "**Scatter Plot 2 (TMDB Score vs Cast Size):**\n",
        "\n",
        "  * Similarly, this plot helps explore the relationship between cast size and TMDB score, providing insights into whether larger casts are rated higher or lower by users on TMDB specifically.\n",
        "\n",
        "\n",
        "##### Outcome from These Charts:\n",
        "  * The scatter plots will allow you to visually evaluate if there is any observable pattern between cast size and ratings on IMDb and TMDB.\n",
        "\n",
        "  * They will also give a clearer idea of whether the number of actors in a content piece plays a significant role in the overall ratings it receives or if other factors (e.g., storyline, direction) have a more prominent influence.\n"
      ],
      "metadata": {
        "id": "olVSdM4wOi0u"
      }
    },
    {
      "cell_type": "markdown",
      "source": [
        "##### 2. What is/are the insight(s) found from the chart?"
      ],
      "metadata": {
        "id": "kQOg3sF5bu1V"
      }
    },
    {
      "cell_type": "markdown",
      "source": [
        "**1. No Strong Correlation Between Cast Size and IMDb Scores:**\n",
        "\n",
        "  * From the scatter plot for **IMDb scores**, there doesn't appear to be a **clear trend** between cast size and ratings. The points are **widely scattered** with no obvious **linear relationship**, suggesting that having more or fewer actors does not have a consistent effect on **IMDb ratings**.\n",
        "  * This indicates that **other factors** (such as script quality, direction, or performances) likely play a more significant role in determining IMDb scores, rather than just the number of actors in a film or show.\n",
        "\n",
        "**2. Weak Positive Correlation for TMDB Scores:**\n",
        "\n",
        "  * The **scatter plot for TMDB scores** shows a **slightly upward trend** as the number of cast members increases, hinting at a **weak positive correlation**. While the relationship is not very strong, it suggests that, in some cases, larger cast sizes might slightly influence **higher ratings** on TMDB.\n",
        "  * This could mean that **larger, ensemble casts** might be percieved more favorably on TMDB, possibly due to the broader range of performances or more diverse representation in the content.\n",
        "\n",
        "**3. Outliers:**\n",
        "\n",
        "  * In both charts, there could be **outliers** where movies or shows with **larger casts** have **extremely low or high ratings**, indicating that while cast size may have a marginal effect, **other factors** likely play a more dominant role.\n",
        "  * For example, a film with a huge cast but a low IMDb score or a popular ensemble show with a smaller cast could be outliers, confirming that cast size is not the sole determinant of success on these platforms."
      ],
      "metadata": {
        "id": "7Y5lIiTMTJ6F"
      }
    },
    {
      "cell_type": "markdown",
      "source": [
        "##### 3. Will the gained insights help creating a positive business impact?\n",
        "Are there any insights that lead to negative growth? Justify with specific reason."
      ],
      "metadata": {
        "id": "cpL93ayIbrEx"
      }
    },
    {
      "cell_type": "markdown",
      "source": [
        "#### Positive Business Impact\n",
        "\n",
        "**1. Focus on Content Quality Over Cast Size:**\n",
        "\n",
        "  * The **lack of strong Correlation** between cast size and IMDb scores suggests that **businesses should focus more on content quality** rather than merely increasing the size of the cast. This could lead to more **cost-effective productions** by allocating resources towards **scriptwriting, direction,** and **cinematography** instead of recruiting larger casts.\n",
        "  * **Producers and content creators** can ensure that their content is not dependant on **star power** or a large ensemble cast to succeed. By prioritizing other factors, such as **unique storylines, strong performance, and high production quality,** they could enhance the chances of achieving high ratings, especially on platforms lik **IMDb**, where audience preferences may be more discerning.\n",
        "\n",
        "**2. Targeting Ensemble Casts for TMDB:**\n",
        "\n",
        "  * The **weak positive correlation with TMDB scores** suggests that having a **larger cast** may slightly boost ratings on this platform. As **TMDB is often used by a more niche audience**, businesses could experiment with **ensemble casts** to potentially improve visibility and engagement on that platform.\n",
        "  * This could also be leveraged in marketing campaigns, as audiences may be drawn to movies or shows with **well-known actors** or **diverse characters,** which can **increase overall interest** in the content.\n",
        "\n",
        "#### Negative Growth Considerations:\n",
        "**1. Investing Excessively in Cast Size:**\n",
        "  * The weak correlation between cast size and ratings could lead some studios or content creators to **overestimate the importance of a large cast.** This could result in **unnecessary investments** in hiring multiple actors, increasing production costs without a guaranteed return in terms of higher ratings or viewership.\n",
        "  * **Excessive reliance on cast size** could result in a **poor ROI (Return on Investment)**, as more actors may not necessarily lead to better performance or greater audience engagement, especially when the quality of the content itself is not strong.\n",
        "\n",
        "**2. Misalignment of Expectations:**\n",
        "  * If businesses incorrectly interpret the weak positive correlation on TMDB as a **strong determinant for success,** they may prioritize **large casts** in a way that detracts from **other important elements**, such as **storytelling** or **directorial quality**.\n",
        "  * This could lead to **resource misallocation,** where businesses spend more on actors instead of investing in **better scripts, production design,** or **audience engagement strategies.** If the audience is not satisfied with the content despite a large cast, it may result in **negative feedback** and **lower future ratings**.\n",
        "\n",
        "**3. Complacency in Content Development:**\n",
        "  * The **insight that cast size does not guarantee high ratings** may lead to complacency where businesses feel that having a **small or inexpensive cast** will be sufficient for success, potentially **undermining efforts to produce high-quality, compelling content.**\n",
        "  * If companies do not invest in strong **strorylines** or **creative direction,** relying too much on a smaller cast, it could lead to **underwhelming content** that does not resonate with audiences, resulting to **poor ratings and declining growth**."
      ],
      "metadata": {
        "id": "vwuT9pfsZlDI"
      }
    },
    {
      "cell_type": "markdown",
      "source": [
        "#### Chart 13 - Bar Chart : Types of Characters or Roles that are Most Common in Trending Genres or Hit Shows?\n",
        "Goal: Spot patterns in character types across popular titles."
      ],
      "metadata": {
        "id": "-rmWpVN96Nn1"
      }
    },
    {
      "cell_type": "code",
      "source": [
        "# Define threshold for \"trending\"\n",
        "top_titles = df_titles[df_titles['imdb_score'] >= 7.5]\n",
        "\n",
        "df_top_credits = pd.merge(top_titles[['id', 'title', 'genres']], df_credits[['id', 'name', 'character', 'role']], on='id')\n",
        "\n",
        "# Count top roles (e.g., ACTOR, DIRECTOR, PRODUCER)\n",
        "top_roles = df_top_credits['role'].value_counts().head(10)\n",
        "\n",
        "# Count top character names (ignoring null/empty)\n",
        "top_characters = df_top_credits['character'].dropna().value_counts().head(15)\n",
        "\n",
        "# Visualize\n",
        "plt.figure(figsize=(4, 4))\n",
        "sns.barplot(x=top_roles.index, y=top_roles.values, palette='coolwarm')\n",
        "plt.title(\"Top Roles in High-Rated Titles\")\n",
        "plt.xlabel(\"Count\")\n",
        "plt.ylabel(\"Role\")\n",
        "plt.tight_layout()\n",
        "plt.show()"
      ],
      "metadata": {
        "id": "z515jtNR69Px"
      },
      "execution_count": null,
      "outputs": []
    },
    {
      "cell_type": "markdown",
      "source": [
        "##### 1. Why did you pick the specific chart?"
      ],
      "metadata": {
        "id": "Fq4cz4KkcDl8"
      }
    },
    {
      "cell_type": "markdown",
      "source": [
        "**1. Clear Comparison of Categories:**\n",
        "  * **Bar charts** are excellent for comparing discrete categories (in this, case, different **roles** in high-rated titles), allowing for easy identification of **which roles are most prominent.**\n",
        "  * The **horizontal bar chart** used here allows for clear readability of labels (roles), especially if the list of roles is long and the bars extend to varying lengths. This makes it easy to see which roles have the highest count.\n",
        "\n",
        "**2. Highlighting Frequency of Roles:**\n",
        "  * The purpose of this chart is to show the **frequency of each role** in trending or high-rated content, and a **bar chart** is particularly effective for this type of analysis because it allows quick identification of the **top 10 roles** that appear most frequently.\n",
        "  * The **color palette** used (coolwarm) helps visually differentiate each bar, making it easier to distinguish between different roles at a glance.\n",
        "\n",
        "**3. Contextual Insights:**\n",
        "  * The chart allows us to quickly assess which **types of characters or roles** (such as **actors, directors, producers**) are most often associated with high-rated titles. This insight can help identify **patterns or preferences** in trending or successful content.\n",
        "\n",
        "**4. Focused on Top Roles:**\n",
        "  * By limiting the chart to the **top roles,** we are able to focus on **the most influential roles in the success of a high-rated title** without overloading the viewer with less relevant information. This allows for a more focused and meaningful analysis."
      ],
      "metadata": {
        "id": "_lDDu4N9if1C"
      }
    },
    {
      "cell_type": "markdown",
      "source": [
        "##### 2. What is/are the insight(s) found from the chart?"
      ],
      "metadata": {
        "id": "UsLbjoGccJDp"
      }
    },
    {
      "cell_type": "markdown",
      "source": [
        "**1. Dominance of Certain Roles:**\n",
        "  * The chart likely reveals that **actors** are the most common role in high-rated titles, which is expected, as **actors** are crucial to the success of most films and shows. Their ability to draw audiences and portray characters effectively often influences the ratings and success of a title.\n",
        "  * Depending on the dataset, you might also observe that **directors** and **producers** appear frequently, but likely not as much as actors, reflecting the collaborative nature of content creation but also pointing out that the **visibility of actors** plays a more direct role in a title's popularity.\n",
        "\n",
        "**2. Presence of Other Roles:**\n",
        "  * You might see **producers, writers, and even creators** making their mark in trending or high-rated titles, highlighting the importance of key behind-the-scenes roles in the quality of the content. However, these may not necessarily appear as often in the top spots as actors and directors.\n",
        "  * If any **character roles** (like \"hero\", \"villain\"\" etc.) are included, they might show up, suggesting that certain character archetypes resonate more in trending or hit shows/movies. For example, the **protagonist** or **antagonist** roles could be more prevalent in high-rated titles, indicating that these are central to the audience's connection with the content.\n",
        "\n",
        "**3. Character Types Across Genres:**\n",
        "  * By cross-refencing this data with the genres of these high-rated titles, we can spot patterns in the types of characters (or roles) associated with different genres. For example:\n",
        "    * **Action and adventure genres** may have more **heroes, villains, and fighters.**\n",
        "    * **Drama or romance genres** might feature more **complex, emotionally-driven character roles.**\n",
        "\n",
        "**4. Frequency of Key Roles in Specific Content Types:**\n",
        "  * If the chart compares roles across movies and TV shows, it could show whether certain roles are more common in one type of content. For example, **actors** may dominate in movies, while **directors** or **producers** might be more prominent in TV series, where long-term vision and showrunning are more crucial.\n"
      ],
      "metadata": {
        "id": "kwNEruHGnSP4"
      }
    },
    {
      "cell_type": "markdown",
      "source": [
        "##### 3. Will the gained insights help creating a positive business impact?\n",
        "Are there any insights that lead to negative growth? Justify with specific reason."
      ],
      "metadata": {
        "id": "GmRiMu9tcPHH"
      }
    },
    {
      "cell_type": "markdown",
      "source": [
        "#### Positive Business Impact:\n",
        "**1. Targeting Popular Roles for Future Projects:\n",
        "  * By identifying the most common and successful roles in trending genre, businessescan tailor casting decisions to align with successful patterns. For instance, if **actors** and **directors** dominate in high-rated content, investing in well-known or skilled actors and directors could help increase the likelihood of producing high-rated content.\n",
        "  * **Character archetypes** that appear frequently in high-rated titles (e.g., heroes, villains, or complex protagonists) can also guide the development of future content, ensuring that the roles resonate with audiences.\n",
        "\n",
        "**2. Informed Content Strategy:**\n",
        "\n",
        "  * Knowing which **roles** (actor, director, producer, etc.) play a prominent role in high-rated content could influence production strategies. For instance, if certain roles (like directors) are key to success in a genre, content creators might invest more in securing renowned directors for future productions in that genre.\n",
        "\n",
        "  * **Genres** with a history of high ratings can be targeted for more content creation. By analyzing which character types or roles are most effective in those genres, content producers can ensure that their projects align with the expectations of their audiences.\n",
        "\n",
        "**3. Casting and Talent Decisions:**\n",
        "\n",
        "  * Identifying that **certain actors** and **directors** are associated with successful content can help companies form strategic partnerships with these individuals. This can help improve the **marketability** and **appeal** of upcoming projects, leading to better engagement, higher viewership, and potentially higher ratings.\n",
        "\n",
        "**4. Audience Engagement and Trends:**\n",
        "\n",
        "  * The insights could also help marketing teams target audiences more effectively. For instance, if certain character types are trending in high-rated genres, promotional materials (e.g., trailers, posters) can highlight these roles to attract audience attention. This can increase engagement and brand recognition for the content.\n",
        "\n",
        "\n",
        "\n",
        "\n",
        "\n",
        "#### Negative Growth Insights (Potential Risks):\n",
        "\n",
        "**1. Over-reliance on Familiar Roles:**\n",
        "\n",
        "  * While focusing on successful roles (actors, directors, and character types) could be beneficial, over-relying on the same talent or character archetypes may result in a lack of originality. Audiences may grow tired of repetitive roles or character types, which could result in diminishing returns for content that feels formulaic or predictable.\n",
        "\n",
        "  * Overuse of the same high-performing actor or director may also limit the variety of projects, leading to stagnation in creative output.\n",
        "\n",
        "**2. Ignoring Other Crucial Factors:**\n",
        "\n",
        "  * The data might skew towards the idea that certain roles are the key to success, but it might ignore other important factors, such as storylines, production quality, innovation, or global trends. Focusing too heavily on popular roles might ignore the broader, more complex reasons behind high ratings, leading to potential failures when other crucial factors are overlooked.\n",
        "\n",
        "**3. Excessive Focus on Specific Genres or Roles:**\n",
        "\n",
        "  * A focus on trending genres and specific roles may result in content creators overproducing certain types of projects (e.g., action films with the same archetypes). This could saturate the market and lead to audience fatigue, diminishing the quality of the content and reducing engagement over time.\n",
        "\n",
        "**4. Exclusion of Emerging Talent:**\n",
        "\n",
        "  * Prioritizing popular roles and well-known actors or directors could inadvertently limit opportunities for emerging talent. This could hurt diversity and creativity, ultimately stifling innovation in the industry. New voices and fresh perspectives may be excluded, which could negatively affect long-term growth by alienating audiences seeking diversity and originality.\n"
      ],
      "metadata": {
        "id": "dtC9tHOssuWo"
      }
    },
    {
      "cell_type": "markdown",
      "source": [
        "#### Chart 14 - Bart Chart : Most Prolific Actors or Directors across Genres\n",
        "Goal: Measure volume of content of person by genre."
      ],
      "metadata": {
        "id": "yJGGo1gx_UtK"
      }
    },
    {
      "cell_type": "code",
      "source": [
        "# Cleaning Genres column for duplicate values\n",
        "# Drop rows with null genres\n",
        "df_titles = df_titles[df_titles['genres'].notna()]\n",
        "\n",
        "# Convert stringified genre list to actual Python list\n",
        "# Example: if genres are like \"['comedy', 'drama']\" (as a string), use `ast.literal_eval`\n",
        "\n",
        "import ast\n",
        "df_titles['genres'] = df_titles['genres'].apply(lambda x: ast.literal_eval(x) if isinstance(x, str) else x)\n",
        "\n",
        "# Remove duplicates within each row's genre list\n",
        "df_titles['genres'] = df_titles['genres'].apply(lambda x: list(set([genre.strip().lower() for genre in x])))\n",
        "\n",
        "# Sort the genres alphabetically for consistency\n",
        "df_titles['genres'] = df_titles['genres'].apply(sorted)\n",
        "\n",
        "# Preview cleaned genre column\n",
        "df_titles['genres']\n",
        "\n",
        "# Make a copy of the cleaned titles DataFrame\n",
        "df_exploded = df_titles.copy()\n",
        "\n",
        "# Explode the 'genres' column so each genre has its own row\n",
        "df_exploded = df_exploded.explode('genres')\n",
        "\n",
        "# Strip any whitespace and convert to lowercase (already done earlier, but just in case)\n",
        "df_exploded['genres'] = df_exploded['genres'].str.strip().str.lower()\n",
        "\n",
        "df_merged = df_exploded.merge(df_credits, on='id')\n",
        "\n",
        "\n",
        "# Get top 10 most prolific names\n",
        "top_names = (\n",
        "    df_merged\n",
        "    .groupby(['name', 'role'])\n",
        "    .size()\n",
        "    .reset_index(name='total_count')\n",
        "    .sort_values('total_count', ascending=False)\n",
        "    .head(5)\n",
        ")\n",
        "\n",
        "# Filter merged data for only top names\n",
        "top_merged = df_merged[df_merged['name'].isin(top_names['name'])]\n",
        "\n",
        "\n",
        "genre_counts = (\n",
        "    top_merged\n",
        "    .groupby(['name','role', 'genres'])\n",
        "    .size()\n",
        "    .reset_index(name='count')\n",
        ")\n",
        "\n",
        "genre_counts['label'] = genre_counts['name'] + ' (' + genre_counts['role'] + ')'\n",
        "\n",
        "# Visualization\n",
        "plt.figure(figsize=(14, 8))\n",
        "sns.barplot(data=genre_counts, x='label', y='count', hue='genres')\n",
        "plt.title('Top Contributors by Genre')\n",
        "plt.xlabel('Name')\n",
        "plt.ylabel('Number of Titles')\n",
        "plt.xticks(rotation=45, ha='right')\n",
        "plt.legend(title='Genre', bbox_to_anchor=(1.05, 1), loc='upper left')\n",
        "plt.tight_layout()\n",
        "plt.show()\n"
      ],
      "metadata": {
        "id": "UjxfKXUpGB-T",
        "collapsed": true
      },
      "execution_count": null,
      "outputs": []
    },
    {
      "cell_type": "markdown",
      "source": [
        "##### 1. Why did you pick the specific chart?"
      ],
      "metadata": {
        "id": "IgSvloyxceb-"
      }
    },
    {
      "cell_type": "markdown",
      "source": [
        "The **bar chart** is ideal for visualizing the distribution of data, especially when we want to compare the **prolific actors or directors** across different genres. Here's why:\n",
        "\n",
        "**1. Clear Comparison:** The bar chart allows for easy comparison between **different contributors (actors or directors)** and their involvement in various genres. By plotting the number of titles associated with each person and genre, the chart visually highlights the most prolific individuals in each genre.\n",
        "\n",
        "**2. Categorical Data Representation:** In this case, both **roles** (actors or directors) and **genres** are categorical variables. A bar chart is excellent for showing counts or frequencies of these categories in an intuitive way. The **hue parameter** (representing genres) allows the reader to see how many titles each person contributed to across different genres, making it easy to distinguish patterns.\n",
        "\n",
        "**3. Multiple Group Comparisons:** The chart shows multiple variables at once—**the person’s name, their role**, and **the genre** they worked in. This makes it useful for identifying not just the most prolific individuals, but also how they perform across multiple genres. The **hue** provides color differentiation for each genre, helping to visually distinguish between them in a single plot.\n",
        "\n",
        "**4. Readable for Top Contributors:** With **top 10 most prolific names**, the bar chart is well-suited to show which actors and directors are leading in terms of genre contributions. It allows for quick identification of the highest contributors and their genre distribution.\n",
        "\n",
        "**5. Scalability:** As we compare the **top 5 or 10 contributors**, the bar chart handles this small dataset efficiently. It's scalable and would still work effectively with a larger dataset as long as the number of categories remains manageable."
      ],
      "metadata": {
        "id": "PUMrR6oqxgxx"
      }
    },
    {
      "cell_type": "markdown",
      "source": [
        "##### 2. What is/are the insight(s) found from the chart?"
      ],
      "metadata": {
        "id": "pUfjPbOfcbC1"
      }
    },
    {
      "cell_type": "markdown",
      "source": [
        "**1. Most Prolific Actors and Directors:**\n",
        "\n",
        "  * The chart highlights the **actors** and **directors** who have contributed to the highest number of titles across different genres. By identifying the most prolific individuals, the chart shows which contributors have the most influence in the industry in terms of quantity.\n",
        "\n",
        "  * We can also see if a specific actor or director dominates in certain genres, which may suggest their specialization or preference in those genres.\n",
        "\n",
        "**2. Genre Preferences:**\n",
        "\n",
        "  * The chart reveals which genres are most commonly associated with certain **actors** or **directors**. This can give insights into their **career trajectory** and specialization. For example, an actor who works predominantly in **action** or **comedy** could be seen as an expert or fan favorite in that genre.\n",
        "\n",
        "  * By looking at the **genre distribution** of each individual, you can assess how well-rounded an actor or director is across different genres or if they are mostly tied to one specific genre.\n",
        "\n",
        "**3. Role Distribution:**\n",
        "\n",
        "  * The chart allows you to compare the **roles (actors vs directors)** within each genre. You might observe that certain genres are more associated with one role than the other. For instance, **directors** might dominate in **drama** and **action** genres, while **actors** might be more evenly distributed across various genres.\n",
        "\n",
        "  * This can suggest **talent needs** in the industry. If certain genres lack diversity in directors, it could influence the hiring or casting decisions in the future.\n",
        "\n",
        "**4. Collaborations:**\n",
        "\n",
        "  * By examining the combination of **name, role**, and **genre**, the chart can show which individuals tend to work with particular genres more often. This can indicate long-term **collaborations** between certain actors, directors, and genres, suggesting they have a proven track record of successful content in those genres.\n",
        "\n",
        "**5. Emerging Talent:**\n",
        "\n",
        "  * The chart might also show emerging **actors** or **directors** who are beginning to make an impact in specific genres. If new names appear at the top of the list in genres like **horror** or **drama**, this could indicate **emerging talent** that might be worth keeping an eye on."
      ],
      "metadata": {
        "id": "y3ZujWaeylCR"
      }
    },
    {
      "cell_type": "markdown",
      "source": [
        "##### 3. Will the gained insights help creating a positive business impact?\n",
        "Are there any insights that lead to negative growth? Justify with specific reason."
      ],
      "metadata": {
        "id": "2cLJPURbcUr9"
      }
    },
    {
      "cell_type": "markdown",
      "source": [
        "#### Positive Business Impact:\n",
        "**1. Informed Casting and Talent Decisions:**\n",
        "\n",
        "  * The insights regarding **prolific actors and directors** can help production companies and studios make **data-driven casting decisions**. By identifying the top contributors and the genres they excel in, they can select the right talent for specific projects, ensuring higher chances of success. For example, if a director has a proven track record in a genre like thriller or comedy, studios can choose them for upcoming projects within that genre.\n",
        "\n",
        "**2. Content Strategy Development:**\n",
        "\n",
        "  * The chart helps to identify which **genres** are most frequently associated with successful talent. This information allows companies to shape their **content strategy**, focusing on genres that consistently attract top-tier talent. For instance, if **action** movies tend to have certain directors at the helm, studios can invest more heavily in that genre, knowing it will attract top talent and likely yield strong audience reception.\n",
        "\n",
        "**3. Diversification of Roles and Genres:**\n",
        "\n",
        "  * By observing which roles (actors vs directors) dominate in various genres, companies can assess areas where there may be **underrepresentation**. For example, if one genre is heavily dominated by actors, studios might seek to diversify by inviting more directors to helm those types of films. This insight could lead to **innovative projects** and an opportunity to **break new ground** within a particular genre.\n",
        "\n",
        "**4. Identification of Emerging Talent:**\n",
        "\n",
        "  * If the chart shows **emerging directors or actors** who have contributed to multiple high-rated titles in specific genres, it provides businesses with an opportunity to **invest in new talent** before they become mainstream. This proactive approach could lead to **long-term success** by discovering individuals who may become major industry influencers in the future.\n",
        "\n",
        "#### Potential Negative Impact:\n",
        "**1. Over-Reliance on Top Talent:**\n",
        "\n",
        "  * A potential downside of focusing too much on the most prolific names in the industry is that it might lead to an **over-reliance on familiar talent**. While top actors and directors can bring success, an over-focus on them might lead to a **lack of innovation** and predi**ctable content**. Audiences may get fatigued by repetitive styles and concepts, reducing long-term engagement.\n",
        "\n",
        "**2. Missed Opportunities for Genre Exploration:**\n",
        "\n",
        "  * The chart’s insights could lead to studios focusing too much on the **same successful genres** that prolific actors and directors dominate. This could potentially close the door to unexplored genres, thus stifling creativity and limiting opportunities for diverse content creation. If companies focus too much on a single genre, it could lead to **market saturation** and eventually alienate audiences looking for something new and fresh.\n",
        "\n",
        "**3. Neglecting Niche or Emerging Roles:**\n",
        "\n",
        "  * By primarily focusing on the most **prolific names** in major genres, studios might neglect **emerging roles** and **niche genres** that are not as popular yet but could present untapped opportunities. For instance, focusing only on actors in mainstream genres like action could cause studios to overlook actors and directors in genres like **documentary or indie films**, which have a strong, but smaller, following.\n",
        "\n",
        "**4. Potential Homogeneity in Content:**\n",
        "\n",
        "  * If too much emphasis is placed on successful and familiar actors and directors, the content produced could become **homogeneous** in nature. Without diversity in **genre or talent**, the risk is that content might become predictable, and the creativity of the entertainment industry could be stifled.\n",
        "\n",
        "#### Justification:\n",
        "  * **Positive Impact:** These insights enable businesses to make more strategic decisions, such as selecting the right talent for a project, understanding audience preferences, diversifying their content offerings, and discovering emerging stars who might bring fresh perspectives.\n",
        "\n",
        "  * **Negative Impact:** However, an over-reliance on top talent and the most popular genres could limit creativity and lead to repetitive content. Additionally, focusing on a narrow pool of talent and genres could result in market saturation, reducing audience excitement over time and limiting the diversity of content that could attract a broader or more niche audience.\n"
      ],
      "metadata": {
        "id": "NBYkuOwuz_29"
      }
    },
    {
      "cell_type": "markdown",
      "source": [
        "#### Chart 15 - Bar Chart : Diversification of the Cast across Content Types or Regions\n",
        "Goal: Audit cast variation by content type (Movie vs TV), region (Countries), or age certification.\n"
      ],
      "metadata": {
        "id": "K_3bUu3QoqoK"
      }
    },
    {
      "cell_type": "code",
      "source": [
        "# Merge df_credits with df_titles\n",
        "df_cast = pd.merge(df_credits, df_titles[['id', 'type', 'production_countries', 'age_certification']], on='id')\n",
        "\n",
        "# Filter to only actors (ignore directors/writers/etc.)\n",
        "df_cast = df_cast[df_cast['role'] == 'ACTOR']\n",
        "\n",
        "# Ensure 'producstion_countries' is a list\n",
        "df_cast['production_countries'] = df_cast['production_countries'].apply(lambda x: x if isinstance(x, list) else [])\n",
        "\n",
        "# Explode to have one country per row\n",
        "df_cast_exploded = df_cast.explode('production_countries')\n",
        "\n",
        "\n",
        "diversity_by_region_type =(\n",
        "    df_cast_exploded.groupby(['production_countries', 'type'])['name']\n",
        "    .nunique()\n",
        "    .reset_index(name='unique_actors')\n",
        ")\n",
        "\n",
        "# Focus on top 10 countries by total unique actors\n",
        "top_countries = (\n",
        "    diversity_by_region_type\n",
        "    .groupby('production_countries')['unique_actors']\n",
        "    .sum()\n",
        "    .sort_values(ascending=False)\n",
        "    .head(10)\n",
        "    .index\n",
        ")\n",
        "\n",
        "# Filter top 10 countries only\n",
        "diversity_top = diversity_by_region_type[diversity_by_region_type['production_countries'].isin(top_countries)]\n",
        "\n",
        "plt.figure(figsize=(10, 6))\n",
        "sns.barplot(data=diversity_top, x='production_countries', y='unique_actors', hue='type', palette='coolwarm')\n",
        "\n",
        "plt.title('Top 10 Production Countries by Cast Diversity (Movies vs Shows)')\n",
        "plt.ylabel('Number of Unique Actors')\n",
        "plt.xlabel('Production Country')\n",
        "plt.xticks(rotation=45)\n",
        "plt.legend(title='Content Type')\n",
        "plt.tight_layout()\n",
        "plt.show()"
      ],
      "metadata": {
        "id": "OJYvxn6hpLP7"
      },
      "execution_count": null,
      "outputs": []
    },
    {
      "cell_type": "markdown",
      "source": [
        "##### 1. Why did you pick the specific chart?"
      ],
      "metadata": {
        "id": "ukFjl9ugdLB0"
      }
    },
    {
      "cell_type": "markdown",
      "source": [
        "The bar chart is chosen to visualize **the diversity of the cast across content types (Movies vs. TV shows) and regions (Countries)** because it allows for an easy comparison of:\n",
        "\n",
        "\n",
        "  **1. Cast diversity**: By showing the number of **unique actors** in each production country, we can effectively gauge the variety of actors involved in content produced in different regions.\n",
        "\n",
        "  **2. Content type breakdown**: The **hue (Movies vs. TV shows)** provides an immediate insight into the differences in cast diversity between movies and TV shows in each country. It also allows for easy differentiation between the two content types within each country.\n",
        "\n",
        "  **3. Geographical distribution**: By focusing on the **top 10 production countries**, the chart emphasizes the most influential countries in terms of cast diversity, making it easier to draw conclusions about the regions with the most varied talent pools.\n",
        "  \n",
        "\n",
        "The bar chart is ideal because:\n",
        "\n",
        "  * It effectively displays both **quantitative and categorical** data (unique actors by country and content type).\n",
        "\n",
        "  * The **hue** provides a distinction between movies and TV shows, allowing for a clear comparison of cast diversity between content types.\n",
        "\n",
        "  * It is easy to interpret, especially when dealing with categorical variables like **production countries** and **content type**.\n",
        "\n",
        "By grouping the data in this way, the bar chart gives a quick, visual representation of how diverse the cast is in different countries and how that diversity differs between movies and TV shows. This helps highlight patterns in cast participation and regional content production."
      ],
      "metadata": {
        "id": "8S7haGNk82qK"
      }
    },
    {
      "cell_type": "markdown",
      "source": [
        "##### 2. What is/are the insight(s) found from the chart?"
      ],
      "metadata": {
        "id": "9Exs6XIrdITm"
      }
    },
    {
      "cell_type": "markdown",
      "source": [
        "**1. Top Countries for Cast Diversity:**\n",
        "\n",
        "  * The chart reveals which **countries** have the most **unique actors** involved in both **movies and TV shows**. These countries are likely to have a significant entertainment industry, with diverse talent pools.\n",
        "\n",
        "  * By comparing countries, we can identify regions that contribute the most to global content creation, especially those with a broad range of actors participating in both movies and TV shows.\n",
        "\n",
        "**2. Content Type Breakdown:**\n",
        "\n",
        "  * The **split between Movies and TV shows** allows us to see whether certain countries have more diversity in one type of content compared to the other. For instance:\n",
        "\n",
        "    * Some countries may have a higher concentration of actors involved in **TV shows**, while others may be more active in **movies**.\n",
        "\n",
        "    * This might indicate differences in how the entertainment industries function in these countries—whether they focus more on serialized content (TV) or feature-length productions (movies).\n",
        "\n",
        "**3. Regional Variation:**\n",
        "\n",
        "  * The chart also highlights **regional trends**, showing which **countries** have a balanced distribution of actors in both **movies and TV shows** and which countries may specialize in one over the other. This could provide insights into **cultural preferences** and **media consumption habits**:\n",
        "\n",
        "    * Countries with more balanced representation might indicate a well-rounded entertainment industry, whereas countries with a higher focus on one content type (e.g., movies) could reflect local content consumption preferences or industry dynamics.\n",
        "\n",
        "**4. Insights into Global Entertainment Trends:**\n",
        "\n",
        "  * By examining the diversity in cast across countries, the chart helps identify **global trends** in **casting diversity**. For example, if countries with high diversity in actors are producing more content (across movies and TV shows), it could indicate their ability to attract a broader international audience.\n",
        "\n",
        "  * This also informs casting decisions for **international collaborations**, where producers might look for diverse casts to appeal to wider audiences."
      ],
      "metadata": {
        "id": "ZMmIJlTr90Pt"
      }
    },
    {
      "cell_type": "markdown",
      "source": [
        "##### 3. Will the gained insights help creating a positive business impact?\n",
        "Are there any insights that lead to negative growth? Justify with specific reason."
      ],
      "metadata": {
        "id": "NsdoEmdldF8o"
      }
    },
    {
      "cell_type": "markdown",
      "source": [
        "#### Positive Business Impact:\n",
        "**1. Strategic Casting Decisions:**\n",
        "\n",
        "  * **Insight**: Identifying countries with the most **unique actors** can help producers and casting directors strategically choose talent from regions with diverse talent pools.\n",
        "\n",
        "  * **Positive Impact**: By leveraging diverse talent, studios can create more **appealing** and **inclusive content**, which is likely to attract a wider audience. This could result in **higher viewership** and **stronger international sales** for movies or TV shows, as they appeal to global and diverse demographics.\n",
        "\n",
        "**2. Targeting Popular Regions for Content Production:**\n",
        "\n",
        "  * **Insight**: The chart provides clarity on which countries are leading in content production (both movies and TV shows). Countries with high **unique actor participation** could be targeted for content production or partnerships.\n",
        "\n",
        "  * **Positive Impact**: Investing in or collaborating with the **top production countries** can **increase content quality and reach**, aligning with local preferences while also appealing to international markets. It also provides a solid foundation for **international expansion** of media companies.\n",
        "\n",
        "**3. Tailoring Content for Global Audiences:**\n",
        "\n",
        "  * **Insight**: If a country has a diverse cast across both movies and TV shows, it suggests that there is a demand for different types of content within that region.\n",
        "\n",
        "  * **Positive Impact**: Studios and content creators can **create region-specific content** or **tailor marketing strategies** that emphasize **local talent**. This approach can lead to **better cultural relevance**, driving engagement and enhancing brand value.\n",
        "\n",
        "**4. Diversification and Inclusion Strategy:**\n",
        "\n",
        "  * **Insight**: By understanding the distribution of actors across various content types, companies can ensure that they are **diverse and inclusive**, which is increasingly valued by audiences.\n",
        "\n",
        "  * **Positive Impact**: This alignment with inclusivity can bolster brand reputation and increase **audience loyalty**, particularly in markets that value diversity, leading to higher engagement and **positive sentiment** around the brand.\n",
        "\n",
        "#### Potential Negative Growth Insights:\n",
        "**1. Imbalance in Content Type Production:**\n",
        "\n",
        "  * **Insight**: If a country is heavily focused on either movies or TV shows and lacks a balance in producing content across both, this could indicate a **limitation in content diversity**.\n",
        "\n",
        "  * **Negative Impact**: A narrow focus on one content type could limit growth potential. For example, if a market is **over-represented** in TV shows but lacks diversity in movies, it could lead to **missed opportunities** in movie distribution or licensing deals, ultimately limiting the company’s **global growth potential**.\n",
        "\n",
        "**2. Over-Concentration in Certain Regions:**\n",
        "\n",
        "  * **Insight**: If the chart highlights a concentration of talent and production in a few countries, this could lead to an **over-reliance on specific markets**.\n",
        "\n",
        "  * **Negative Impact**: This concentration could lead to **risk exposure**, especially if certain regions experience a **downturn** in content production or local market changes (e.g., economic shifts, regulatory changes, or changes in consumer preferences). Businesses could face difficulties in sustaining long-term growth if they fail to **diversify** content across more regions or market types.\n",
        "\n",
        "**3. Unbalanced Representation:**\n",
        "\n",
        "  * **Insight**: Some countries may have fewer unique actors in certain genres or content types, suggesting **under-representation** of talent.\n",
        "\n",
        "  * **Negative Impact**: Failing to address talent gaps in certain regions could result in **lackluster content**, limiting potential collaborations or making it more difficult to cater to specific audiences. This could **negatively affect the brand** and result in a **reduced audience reach**, especially if competitors take advantage of underrepresented markets."
      ],
      "metadata": {
        "id": "lub762lY_Eq5"
      }
    },
    {
      "cell_type": "markdown",
      "source": [
        "#### Chart 16 - Bar Chart : Older titles are still popular or well-rated compared to newer content\n",
        "Goal: Explore long-term content value."
      ],
      "metadata": {
        "id": "QJg8p2gjFaqc"
      }
    },
    {
      "cell_type": "code",
      "source": [
        "# Drop missing scores\n",
        "combine_score = ['imdb_score', 'tmdb_score']\n",
        "\n",
        "df_rating = df_titles.dropna(subset=combine_score)\n",
        "\n",
        "\n",
        "# Group by release year to get average IMDb and TMDB score\n",
        "avg_score_by_year = df_rating.groupby('release_year')[combine_score].mean().reset_index()\n",
        "\n",
        "df_titles['avg_score'] = df_titles[combine_score].mean(axis=1)\n",
        "\n",
        "# Filter titles before 2000 with high IMDb scores\n",
        "classic_hits = df_titles[(df_titles['release_year'] < 2000) & (df_titles['avg_score'] >= 8)]\n",
        "\n",
        "# Sort top 10 by score\n",
        "top_classics = classic_hits.sort_values(by='avg_score', ascending=False).head(10)\n",
        "\n",
        "\n",
        "# Visualization\n",
        "plt.figure(figsize=(12, 8))\n",
        "\n",
        "sns.barplot(data=top_classics, x='avg_score', y='title', palette='viridis')\n",
        "\n",
        "plt.title('Top 10 High-Rated Classic Titles (Before 2000)')\n",
        "plt.xlabel('Average Score (IMDb + TMDB)')\n",
        "plt.ylabel('Title')\n",
        "plt.grid(True)\n",
        "plt.tight_layout()\n",
        "plt.show()"
      ],
      "metadata": {
        "id": "9ZLl-ZKm3yaD"
      },
      "execution_count": null,
      "outputs": []
    },
    {
      "cell_type": "markdown",
      "source": [
        "##### 1. Why did you pick the specific chart?"
      ],
      "metadata": {
        "id": "VbDtmQ3pdpgv"
      }
    },
    {
      "cell_type": "markdown",
      "source": [
        "To visualize the **Top 10 High-Rated Classic Titles (Before 2000)** because:\n",
        "\n",
        "  **1. Clear Comparison**: A bar chart allows for a **clear comparison** between the titles based on their average scores, which is essential for identifying which older titles are still performing well in terms of IMDb and TMDB ratings.\n",
        "\n",
        "  **2. Focus on Key Insights**: It emphasizes the specific titles that have stood the test of time, showing how classic content continues to outperform or match newer content in terms of ratings. The bar chart is especially useful when dealing with categorical data (titles) and continuous data (average score), providing a quick visual of relative performance.\n",
        "\n",
        "  **3. Easily Interpretable**: The chart makes it easy to **identify trends** in how older titles continue to maintain or achieve high ratings over time, offering valuable insights into long-term content value. It also provides an intuitive way to spot the highest-rated classics with clear labels.\n",
        "\n",
        "  **4. Emphasis on Top Performers**: By sorting the data and showing the top 10 high-rated classics, the chart allows a **focused look at the highest-performing older content**, offering a visual representation of the most significant insights, rather than a broad view of all older titles. This makes it easy for viewers to grasp the takeaway: some older content still maintains strong ratings.\n",
        "\n",
        "The **visual appeal** and **clarity** of a bar chart in this context make it the most effective tool for conveying the insights about the long-term appeal and quality of classic titles compared to newer ones."
      ],
      "metadata": {
        "id": "QBfAfstZFizL"
      }
    },
    {
      "cell_type": "markdown",
      "source": [
        "##### 2. What is/are the insight(s) found from the chart?"
      ],
      "metadata": {
        "id": "ZWjESWfIdihU"
      }
    },
    {
      "cell_type": "markdown",
      "source": [
        "**1. Longevity of High-Quality Content**: The chart will highlight that several classic films or TV shows from before 2000 have maintained consistently **high average** ratings (IMDb + TMDB). This suggests that **older content** can still be highly relevant and well-regarded, even years after its release. It could also show that certain films or shows have remained culturally significant, contributing to their ongoing popularity.\n",
        "\n",
        "**2. Cultural Impact**: Many of the top-rated classic titles likely belong to genres or franchises that have maintained cultural significance, such as **iconic films** or **beloved franchises** that continue to influence contemporary content. The chart may reveal patterns about the **timelessness** of certain genres or themes, such as sci-fi, drama, or historical films.\n",
        "\n",
        "**3. Enduring Fan Base**: High ratings for older titles suggest that these works have developed **loyal fan bases** over time. These audiences likely continue to recommend, revisit, and celebrate these films/shows, which helps them sustain a high level of popularity.\n",
        "\n",
        "**4. Quality and Craftsmanship**: The older content that maintains high ratings may indicate a level of **filmmaking craftsmanship** that resonates with audiences even decades after release. This could point to aspects like **storytelling, acting, directing, or production** values that remain impactful even as technology and cultural preferences change.\n",
        "\n",
        "In summary, the chart shows that older content, particularly **classic titles,** still retains considerable **cultural value and popularity** due to its enduring quality, emotional resonance, and fan base. These insights can be used to inform current and future content strategies, such as leveraging nostalgic elements or focusing on quality storytelling, which are likely to remain valued by audiences across time."
      ],
      "metadata": {
        "id": "4yTWjbilGe4i"
      }
    },
    {
      "cell_type": "markdown",
      "source": [
        "##### 3. Will the gained insights help creating a positive business impact?\n",
        "Are there any insights that lead to negative growth? Justify with specific reason."
      ],
      "metadata": {
        "id": "6lMT4uDGdnkK"
      }
    },
    {
      "cell_type": "markdown",
      "source": [
        "#### Positive Business Impact:\n",
        "**1. Timeless Content Value:**\n",
        "\n",
        "  * **Insight**: Older, classic content continues to perform well, with high ratings even years after release.\n",
        "\n",
        "  * **Impact**: This insight suggests that **investing in the creation of timeless, high-quality content** can have long-term benefits. Content that stands the test of time can continuously attract viewers, providing ongoing value without the need for constant production. Studios or streaming services can use this insight to focus on creating content with lasting appeal, which could continue to generate revenue and viewership long after the initial release.\n",
        "\n",
        "**2. Nostalgia as a Tool:**\n",
        "\n",
        "  * **Insight**: Classic films and shows with enduring popularity are often tied to strong **nostalgic feelings** from their original audiences.\n",
        "\n",
        "  * **Impact**: This opens up opportunities for **nostalgia-driven** marketing and remakes/reboots, targeting existing fan bases. Content providers can leverage the **nostalgic value** of older successful titles to create new derivative content (e.g., remakes, sequels, or spin-offs), appealing to both older generations familiar with the original and younger generations discovering them for the first time. This kind of content often has a built-in audience, reducing marketing risks and costs.\n",
        "\n",
        "**3. Legacy Content for Continuous Engagement:**\n",
        "\n",
        "  * **Insight**: High-rated classic titles can become part of the **evergreen content portfolio** for platforms, providing long-term engagement without additional production costs.\n",
        "\n",
        "  * **Impact**: Media companies can curate and offer classic content as part of their subscription services, giving users access to a library of films or shows that continue to attract attention. This enhances **user retention** on streaming platforms by ensuring that there is always a collection of beloved titles for customers to engage with, encouraging longer subscriptions.\n",
        "\n",
        "**4. Strategic Programming:**\n",
        "\n",
        "  * **Insight**: Titles from before 2000 that maintain high ratings may be strategically scheduled to capture viewership during specific times of the year, such as anniversaries or themed events (e.g., holiday seasons).\n",
        "\n",
        "  * **Impact**: This strategy could drive audience engagement, especially on platforms like streaming services that curate specific content around holidays or significant anniversaries. This not only boosts views but can also improve customer satisfaction, as they can revisit beloved classics.\n",
        "\n",
        "#### Potential Negative Growth:\n",
        "**1. Over-Reliance on Old Content:**\n",
        "\n",
        "  * **Insight**: While older content has proven longevity, there’s a danger in **over-relying on past hits** to drive engagement.\n",
        "\n",
        "  * **Reason**: If a business focuses too heavily on classics and neglects to innovate or develop new, original content, it could risk stagnation. Audiences’ tastes evolve, and relying on past successes might prevent the platform or studio from keeping up with emerging trends and new formats. This could result in **lower innovation and missed opportunities** to attract new viewers or demographics.\n",
        "\n",
        "**2. Audience Fragmentation:**\n",
        "\n",
        "  * **Insight**: Classic films might appeal to specific age groups, but they may not engage younger generations.\n",
        "\n",
        "  * **Reason**: While older content is successful with nostalgic viewers, the younger generation might not connect with older titles, leading to a **disconnect in the audience**. If a company leans too heavily on older content, it might struggle to capture and maintain the **attention of younger audiences**, limiting potential growth among newer viewers who prefer contemporary content or trends.\n",
        "\n",
        "**3. Excessive Nostalgia May Limit Growth:**\n",
        "\n",
        "  * **Insight**: While nostalgia can be a powerful marketing tool, relying too heavily on it may create the impression that a company lacks fresh, innovative content.\n",
        "\n",
        "  * **Reason**: If a platform over-promotes nostalgic content and remakes, it may eventually **alienate consumers** who seek originality and novelty. This could create a perception that the platform is “out of touch” or **focusing too much on past successes** rather than future-oriented content."
      ],
      "metadata": {
        "id": "YU3mQxfXHgxT"
      }
    },
    {
      "cell_type": "markdown",
      "source": [
        "## **5. Solution to Business Objective**"
      ],
      "metadata": {
        "id": "JcMwzZxoAimU"
      }
    },
    {
      "cell_type": "markdown",
      "source": [
        "#### What do you suggest the client to achieve Business Objective ?\n",
        "Explain Briefly."
      ],
      "metadata": {
        "id": "8G2x9gOozGDZ"
      }
    },
    {
      "cell_type": "markdown",
      "source": [
        "To help achieve the business objective, the insights gathered from these 16 charts would provide a comprehensive understanding of the content landscape, allowing the client to make data-driven decisions on content strategy, regional expansion, audience targeting, and more. Here's a breakdown of the potential **solutions to the business objective** based on the charts:\n",
        "\n",
        "#### 1. Content Diversity:\n",
        "  * **Objective:** Understand trends in genres, ratings, and popularity to inform content strategy.\n",
        "\n",
        "  * **Solutions:**\n",
        "\n",
        "    * **Top Genres by Count (Chart 1):** The client can prioritize content creation or acquisition based on the most popular genres, ensuring they have a high volume of content in genres with significant audience demand.\n",
        "\n",
        "    * **Distribution of Ratings (Chart 2):** Focus on balancing the volume of high-rated content to maintain audience interest and keep the platform’s reputation strong.\n",
        "\n",
        "    * **Ratings Across Genres (Chart 3):** Use the average ratings per genre to highlight the genres that not only have the most content but also the highest-quality content, guiding future production or curation decisions.\n",
        "\n",
        "    * **IMDb vs TMDB by Type (Chart 4):** This analysis can help determine whether content type (Movie vs TV Show) influences ratings, providing insights for prioritizing certain content types based on higher user satisfaction.\n",
        "\n",
        "#### 2. Regional Availability:\n",
        "  * **Objective:** Explore regional gaps or strengths in content availability and ensure alignment with audience preferences across geographies and age groups.\n",
        "\n",
        "  * **Solutions:**\n",
        "\n",
        "    * **Top Countries by Content Volume (Chart 5):** The client can focus marketing efforts and distribution deals in countries with the most content available, potentially leveraging these regions as key growth markets.\n",
        "\n",
        "    * **Age Certification by Country (Chart 6):** Help understand content suitability per region and age group, allowing for better local content adaptation, marketing, and distribution strategies.\n",
        "\n",
        "    * **Correlation Between Regions and Certifications (Chart 7):** Identify content certification trends in different regions, ensuring that the platform has the appropriate content for various age groups across different markets.\n",
        "\n",
        "3. Trends Over Time:\n",
        "  * **Objective:** Measure how the content library has evolved and identify emerging trends to predict future demand.\n",
        "\n",
        "  * **Solutions:**\n",
        "\n",
        "    * **Volume of Content Over Time (Chart 8):** This insight can be used to assess the overall growth or decline in the content library, allowing the client to adjust investment and content strategies accordingly.\n",
        "\n",
        "    * **Time Trend by Type (Chart 9):** Tracking how movies and TV shows evolve over time can guide the client’s investment decisions, whether to focus on expanding TV series, movies, or both.\n",
        "\n",
        "    * **Top 5 Trending Genres Over Time (Chart 10):** By identifying trending genres, the client can tailor content acquisition and production to capitalize on audience preferences and emerging trends.\n",
        "\n",
        "4. Contribution & Diversification of Roles:\n",
        "  * **Objective:** Understand the contribution of different roles (actors, directors, etc.) in high-performing content and ensure diversity in casting.\n",
        "\n",
        "  * **Solutions:**\n",
        "\n",
        "    * **Actors or Directors Contributing to High-Rated Content (Chart 11):** The client can strategically work with top-performing actors or directors who are consistently involved in high-rated content, ensuring better quality and appeal.\n",
        "\n",
        "    * **Cast Size and Content Ratings (Chart 12):** Analyzing whether cast size influences ratings helps the client make data-driven decisions on how many cast members to feature in future content, potentially optimizing production costs and appeal.\n",
        "\n",
        "    * **Types of Characters or Roles in Trending Genres (Chart 13):** Identifying common roles or character types can guide casting decisions, ensuring the inclusion of characters that resonate with audiences in popular genres.\n",
        "\n",
        "    * **Most Prolific Actors or Directors Across Genres (Chart 14):** Focus on the actors and directors who contribute significantly to high-performing content, ensuring they are engaged in future projects.\n",
        "\n",
        "    * **Diversification of the Cast Across Regions/Types (Chart 15):** Encourage diversity in casting, focusing on global representation across regions and content types to appeal to a broader audience and enhance content variety.\n",
        "\n",
        "    * **Older Titles vs Newer Content (Chart 16):** Leverage the popularity of older, timeless content alongside new releases, maintaining a balanced library that appeals to both nostalgic and new audiences.\n",
        "\n",
        "#### Key Recommendations for the Client to Achieve the Business Objective:\n",
        "  **1. Leverage Popular Genres and Ratings:** Focus on increasing content production or acquisition in genres with high ratings and demand, ensuring content meets audience preferences while maintaining high-quality standards.\n",
        "\n",
        "  **2. Expand Regionally Based on Content Availability:** Target regions with gaps in content offerings and adjust content strategies based on regional preferences and certifications. Tailor marketing campaigns for countries with significant content volumes to attract local subscribers.\n",
        "\n",
        "  **3. Focus on Content Evolution:** Continuously track content volume and trending genres to stay ahead of the curve. Adjust content offerings based on changing trends to align with evolving audience tastes.\n",
        "\n",
        "  **4. Maximize Star Power and Expertise:** Collaborate with high-performing actors, directors, and producers who consistently contribute to well-rated content, ensuring that future productions benefit from their established track record.\n",
        "\n",
        "  **5. Ensure Diversity in Cast and Roles:** Increase casting diversity across regions and genres, and balance between different types of content (movies, TV shows). This will not only enhance audience appeal but also ensure global representation in content.\n",
        "\n",
        "  **6. Blend Old and New Content:** Capitalize on the long-term appeal of older, high-rated titles while continuing to invest in newer content. This strategy can help balance nostalgia with innovation, keeping existing viewers satisfied while attracting new ones.\n",
        "\n",
        "By following these strategies, the client can create a well-rounded content portfolio that appeals to a wide range of demographics, maximizes the impact of high-rated and trending content, and stays ahead of market trends. This approach will ultimately help achieve long-term growth and business success."
      ],
      "metadata": {
        "id": "pASKb0qOza21"
      }
    },
    {
      "cell_type": "markdown",
      "source": [
        "# **Conclusion**"
      ],
      "metadata": {
        "id": "gCX9965dhzqZ"
      }
    },
    {
      "cell_type": "markdown",
      "source": [
        "The insights derived from the 16 charts provide a comprehensive understanding of the current state of content diversity, regional availability, audience preferences, and industry trends. By analyzing these patterns, the client is in a strong position to make informed decisions that will help optimize their content strategy, enhance regional targeting, and foster long-term growth.\n",
        "\n",
        "  **1. Content Strategy Optimization:** Focusing on high-performing genres, leveraging top actors and directors, and balancing both new and older content will ensure the platform remains appealing to both existing and new audiences. Prioritizing quality alongside quantity will create a content library that resonates with viewers, driving engagement and satisfaction.\n",
        "\n",
        "  **2. Regional Expansion:** Identifying regional gaps and tailoring content availability by country and age certification will help meet the diverse needs of global audiences. Adjusting marketing and content distribution strategies accordingly will enable the platform to expand in regions with high demand and content volume.\n",
        "\n",
        "  **3. Trends and Evolving Preferences:** Tracking content performance over time allows the platform to stay ahead of the curve by adapting to emerging trends and shifting audience preferences. This proactive approach ensures that the content offerings evolve alongside changing viewer tastes, maintaining relevance and demand.\n",
        "\n",
        "  **4. Diversity and Representation:** Increasing the diversity of cast members across different genres and regions ensures inclusivity and broadens the appeal of the platform. By diversifying casting and exploring global talent, the client can create more relatable and universally engaging content.\n",
        "\n",
        "By integrating these insights into their decision-making process, the client can enhance their content offerings, maximize user engagement, and ultimately drive sustained business growth. This approach will not only foster audience loyalty but also position the platform as a leader in content innovation, diversity, and regional relevance.\n",
        "\n",
        "In essence, the client can achieve a balanced content portfolio that appeals to diverse audiences, fosters global expansion, and positions the platform for long-term success in an ever-evolving entertainment landscape."
      ],
      "metadata": {
        "id": "Fjb1IsQkh3yE"
      }
    },
    {
      "cell_type": "markdown",
      "source": [
        "### ***Hurrah! You have successfully completed your EDA Capstone Project !!!***"
      ],
      "metadata": {
        "id": "gIfDvo9L0UH2"
      }
    }
  ]
}